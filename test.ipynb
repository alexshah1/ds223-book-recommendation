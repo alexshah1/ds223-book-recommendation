{
 "cells": [
  {
   "cell_type": "code",
   "execution_count": 1,
   "metadata": {},
   "outputs": [
    {
     "name": "stderr",
     "output_type": "stream",
     "text": [
      "c:\\Users\\alexa\\Desktop\\Spring 2024\\DS 223 Marketing Analytics\\Project\\ds223-book-recommendation\\book-recommendation\\lib\\site-packages\\tqdm\\auto.py:21: TqdmWarning: IProgress not found. Please update jupyter and ipywidgets. See https://ipywidgets.readthedocs.io/en/stable/user_install.html\n",
      "  from .autonotebook import tqdm as notebook_tqdm\n"
     ]
    }
   ],
   "source": [
    "from kitab.db.functions import get_book_by_ISBN, add_book_db, update_book_db, get_table_from_db\n",
    "from kitab.db.db_info import user, port, password, host, database"
   ]
  },
  {
   "cell_type": "code",
   "execution_count": 2,
   "metadata": {},
   "outputs": [
    {
     "name": "stderr",
     "output_type": "stream",
     "text": [
      "\u001b[38;5;183m2024-04-08 04:09:01,572 - kitab.db.sql_interactions - insert_records - INFO - (1 records inserted successfully.) - line: 145\u001b[0m\n",
      "c:\\Users\\alexa\\Desktop\\Spring 2024\\DS 223 Marketing Analytics\\Project\\ds223-book-recommendation\\kitab\\db\\sql_interactions.py:212: UserWarning: pandas only supports SQLAlchemy connectable (engine/connection) or database string URI or sqlite3 DBAPI2 connection. Other DBAPI2 objects are not tested. Please consider using SQLAlchemy.\n",
      "  data = pd.read_sql(query, self.connection)\n",
      "\u001b[38;5;183m2024-04-08 04:09:01,708 - kitab.db.sql_interactions - insert_records - INFO - (1 records inserted successfully.) - line: 145\u001b[0m\n",
      "\u001b[38;5;183m2024-04-08 04:09:01,717 - kitab.db.sql_interactions - insert_records - INFO - (2 records inserted successfully.) - line: 145\u001b[0m\n",
      "c:\\Users\\alexa\\Desktop\\Spring 2024\\DS 223 Marketing Analytics\\Project\\ds223-book-recommendation\\kitab\\db\\sql_interactions.py:212: UserWarning: pandas only supports SQLAlchemy connectable (engine/connection) or database string URI or sqlite3 DBAPI2 connection. Other DBAPI2 objects are not tested. Please consider using SQLAlchemy.\n",
      "  data = pd.read_sql(query, self.connection)\n",
      "\u001b[33;20m2024-04-08 04:09:01,728 - kitab.db.sql_interactions - insert_records - WARNING - (No records to insert.) - line: 134\u001b[0m\n",
      "\u001b[38;5;183m2024-04-08 04:09:01,734 - kitab.db.sql_interactions - insert_records - INFO - (2 records inserted successfully.) - line: 145\u001b[0m\n"
     ]
    }
   ],
   "source": [
    "add_book_db(\n",
    "    {\"ISBN\": \"test_isbn1\",\n",
    "     \"title\": \"test_title\",\n",
    "     \"description\": \"test_description\",\n",
    "     \"available\": True,\n",
    "     \"authors\": [\"test_author\", \"Agatha Christie\"], \n",
    "     \"genres\": [\"test_genre\", \"Fiction\"]}\n",
    ")"
   ]
  },
  {
   "cell_type": "code",
   "execution_count": 3,
   "metadata": {},
   "outputs": [
    {
     "name": "stderr",
     "output_type": "stream",
     "text": [
      "c:\\Users\\alexa\\Desktop\\Spring 2024\\DS 223 Marketing Analytics\\Project\\ds223-book-recommendation\\kitab\\db\\sql_interactions.py:212: UserWarning: pandas only supports SQLAlchemy connectable (engine/connection) or database string URI or sqlite3 DBAPI2 connection. Other DBAPI2 objects are not tested. Please consider using SQLAlchemy.\n",
      "  data = pd.read_sql(query, self.connection)\n"
     ]
    },
    {
     "data": {
      "text/plain": [
       "([{'isbn': 'test_isbn1',\n",
       "   'title': 'test_title',\n",
       "   'description': 'test_description',\n",
       "   'available': True}],\n",
       " ['Agatha Christie', 'test_author'],\n",
       " ['Fiction', 'test_genre'])"
      ]
     },
     "execution_count": 3,
     "metadata": {},
     "output_type": "execute_result"
    }
   ],
   "source": [
    "get_book_by_ISBN(\"test_isbn1\")"
   ]
  },
  {
   "cell_type": "code",
   "execution_count": 4,
   "metadata": {},
   "outputs": [
    {
     "name": "stderr",
     "output_type": "stream",
     "text": [
      "c:\\Users\\alexa\\Desktop\\Spring 2024\\DS 223 Marketing Analytics\\Project\\ds223-book-recommendation\\kitab\\db\\sql_interactions.py:212: UserWarning: pandas only supports SQLAlchemy connectable (engine/connection) or database string URI or sqlite3 DBAPI2 connection. Other DBAPI2 objects are not tested. Please consider using SQLAlchemy.\n",
      "  data = pd.read_sql(query, self.connection)\n"
     ]
    },
    {
     "data": {
      "text/html": [
       "<div>\n",
       "<style scoped>\n",
       "    .dataframe tbody tr th:only-of-type {\n",
       "        vertical-align: middle;\n",
       "    }\n",
       "\n",
       "    .dataframe tbody tr th {\n",
       "        vertical-align: top;\n",
       "    }\n",
       "\n",
       "    .dataframe thead th {\n",
       "        text-align: right;\n",
       "    }\n",
       "</style>\n",
       "<table border=\"1\" class=\"dataframe\">\n",
       "  <thead>\n",
       "    <tr style=\"text-align: right;\">\n",
       "      <th></th>\n",
       "      <th>isbn</th>\n",
       "      <th>author_id</th>\n",
       "    </tr>\n",
       "  </thead>\n",
       "  <tbody>\n",
       "    <tr>\n",
       "      <th>123889</th>\n",
       "      <td>7455054</td>\n",
       "      <td>46321</td>\n",
       "    </tr>\n",
       "    <tr>\n",
       "      <th>123890</th>\n",
       "      <td>71819266</td>\n",
       "      <td>39066</td>\n",
       "    </tr>\n",
       "    <tr>\n",
       "      <th>123891</th>\n",
       "      <td>133251241</td>\n",
       "      <td>74389</td>\n",
       "    </tr>\n",
       "    <tr>\n",
       "      <th>123892</th>\n",
       "      <td>133251241</td>\n",
       "      <td>74390</td>\n",
       "    </tr>\n",
       "    <tr>\n",
       "      <th>123893</th>\n",
       "      <td>133251241</td>\n",
       "      <td>74391</td>\n",
       "    </tr>\n",
       "    <tr>\n",
       "      <th>123894</th>\n",
       "      <td>875523919</td>\n",
       "      <td>57359</td>\n",
       "    </tr>\n",
       "    <tr>\n",
       "      <th>123895</th>\n",
       "      <td>307981533</td>\n",
       "      <td>20892</td>\n",
       "    </tr>\n",
       "    <tr>\n",
       "      <th>123896</th>\n",
       "      <td>313382077</td>\n",
       "      <td>74392</td>\n",
       "    </tr>\n",
       "    <tr>\n",
       "      <th>123897</th>\n",
       "      <td>test_isbn1</td>\n",
       "      <td>74395</td>\n",
       "    </tr>\n",
       "    <tr>\n",
       "      <th>123898</th>\n",
       "      <td>test_isbn1</td>\n",
       "      <td>1676</td>\n",
       "    </tr>\n",
       "  </tbody>\n",
       "</table>\n",
       "</div>"
      ],
      "text/plain": [
       "              isbn  author_id\n",
       "123889     7455054      46321\n",
       "123890    71819266      39066\n",
       "123891   133251241      74389\n",
       "123892   133251241      74390\n",
       "123893   133251241      74391\n",
       "123894   875523919      57359\n",
       "123895   307981533      20892\n",
       "123896   313382077      74392\n",
       "123897  test_isbn1      74395\n",
       "123898  test_isbn1       1676"
      ]
     },
     "execution_count": 4,
     "metadata": {},
     "output_type": "execute_result"
    }
   ],
   "source": [
    "get_table_from_db(\"bookauthor\").iloc[-10:]"
   ]
  },
  {
   "cell_type": "code",
   "execution_count": null,
   "metadata": {},
   "outputs": [],
   "source": []
  },
  {
   "cell_type": "code",
   "execution_count": 5,
   "metadata": {},
   "outputs": [
    {
     "name": "stderr",
     "output_type": "stream",
     "text": [
      "\u001b[38;5;183m2024-04-08 04:09:10,452 - kitab.db.sql_interactions - update_records - INFO - (Records updated successfully.) - line: 176\u001b[0m\n",
      "c:\\Users\\alexa\\Desktop\\Spring 2024\\DS 223 Marketing Analytics\\Project\\ds223-book-recommendation\\kitab\\db\\sql_interactions.py:212: UserWarning: pandas only supports SQLAlchemy connectable (engine/connection) or database string URI or sqlite3 DBAPI2 connection. Other DBAPI2 objects are not tested. Please consider using SQLAlchemy.\n",
      "  data = pd.read_sql(query, self.connection)\n",
      "\u001b[33;20m2024-04-08 04:09:11,179 - kitab.db.sql_interactions - insert_records - WARNING - (No records to insert.) - line: 134\u001b[0m\n",
      "\u001b[38;5;183m2024-04-08 04:09:11,198 - kitab.db.sql_interactions - remove_records - INFO - (Records removed successfully.) - line: 208\u001b[0m\n",
      "\u001b[38;5;183m2024-04-08 04:09:11,202 - kitab.db.sql_interactions - insert_records - INFO - (1 records inserted successfully.) - line: 145\u001b[0m\n"
     ]
    }
   ],
   "source": [
    "update_book_db(\"test_isbn1\", {\"ISBN\": \"test_isbn2\", \"authors\": [\"Agatha Christie\", \"test_author2\"]})"
   ]
  },
  {
   "cell_type": "code",
   "execution_count": 6,
   "metadata": {},
   "outputs": [
    {
     "name": "stderr",
     "output_type": "stream",
     "text": [
      "c:\\Users\\alexa\\Desktop\\Spring 2024\\DS 223 Marketing Analytics\\Project\\ds223-book-recommendation\\kitab\\db\\sql_interactions.py:212: UserWarning: pandas only supports SQLAlchemy connectable (engine/connection) or database string URI or sqlite3 DBAPI2 connection. Other DBAPI2 objects are not tested. Please consider using SQLAlchemy.\n",
      "  data = pd.read_sql(query, self.connection)\n"
     ]
    }
   ],
   "source": [
    "get_book_by_ISBN(\"test_isbn1\")"
   ]
  },
  {
   "cell_type": "code",
   "execution_count": 7,
   "metadata": {},
   "outputs": [
    {
     "data": {
      "text/plain": [
       "([{'isbn': 'test_isbn2',\n",
       "   'title': 'test_title',\n",
       "   'description': 'test_description',\n",
       "   'available': True}],\n",
       " ['Agatha Christie', 'test_author2'],\n",
       " ['Fiction', 'test_genre'])"
      ]
     },
     "execution_count": 7,
     "metadata": {},
     "output_type": "execute_result"
    }
   ],
   "source": [
    "get_book_by_ISBN(\"test_isbn2\")"
   ]
  },
  {
   "cell_type": "code",
   "execution_count": 8,
   "metadata": {},
   "outputs": [
    {
     "name": "stderr",
     "output_type": "stream",
     "text": [
      "c:\\Users\\alexa\\Desktop\\Spring 2024\\DS 223 Marketing Analytics\\Project\\ds223-book-recommendation\\kitab\\db\\sql_interactions.py:212: UserWarning: pandas only supports SQLAlchemy connectable (engine/connection) or database string URI or sqlite3 DBAPI2 connection. Other DBAPI2 objects are not tested. Please consider using SQLAlchemy.\n",
      "  data = pd.read_sql(query, self.connection)\n"
     ]
    },
    {
     "data": {
      "text/html": [
       "<div>\n",
       "<style scoped>\n",
       "    .dataframe tbody tr th:only-of-type {\n",
       "        vertical-align: middle;\n",
       "    }\n",
       "\n",
       "    .dataframe tbody tr th {\n",
       "        vertical-align: top;\n",
       "    }\n",
       "\n",
       "    .dataframe thead th {\n",
       "        text-align: right;\n",
       "    }\n",
       "</style>\n",
       "<table border=\"1\" class=\"dataframe\">\n",
       "  <thead>\n",
       "    <tr style=\"text-align: right;\">\n",
       "      <th></th>\n",
       "      <th>isbn</th>\n",
       "      <th>author_id</th>\n",
       "    </tr>\n",
       "  </thead>\n",
       "  <tbody>\n",
       "    <tr>\n",
       "      <th>123889</th>\n",
       "      <td>7455054</td>\n",
       "      <td>46321</td>\n",
       "    </tr>\n",
       "    <tr>\n",
       "      <th>123890</th>\n",
       "      <td>71819266</td>\n",
       "      <td>39066</td>\n",
       "    </tr>\n",
       "    <tr>\n",
       "      <th>123891</th>\n",
       "      <td>133251241</td>\n",
       "      <td>74389</td>\n",
       "    </tr>\n",
       "    <tr>\n",
       "      <th>123892</th>\n",
       "      <td>133251241</td>\n",
       "      <td>74390</td>\n",
       "    </tr>\n",
       "    <tr>\n",
       "      <th>123893</th>\n",
       "      <td>133251241</td>\n",
       "      <td>74391</td>\n",
       "    </tr>\n",
       "    <tr>\n",
       "      <th>123894</th>\n",
       "      <td>875523919</td>\n",
       "      <td>57359</td>\n",
       "    </tr>\n",
       "    <tr>\n",
       "      <th>123895</th>\n",
       "      <td>307981533</td>\n",
       "      <td>20892</td>\n",
       "    </tr>\n",
       "    <tr>\n",
       "      <th>123896</th>\n",
       "      <td>313382077</td>\n",
       "      <td>74392</td>\n",
       "    </tr>\n",
       "    <tr>\n",
       "      <th>123897</th>\n",
       "      <td>test_isbn2</td>\n",
       "      <td>1676</td>\n",
       "    </tr>\n",
       "    <tr>\n",
       "      <th>123898</th>\n",
       "      <td>test_isbn2</td>\n",
       "      <td>74394</td>\n",
       "    </tr>\n",
       "  </tbody>\n",
       "</table>\n",
       "</div>"
      ],
      "text/plain": [
       "              isbn  author_id\n",
       "123889     7455054      46321\n",
       "123890    71819266      39066\n",
       "123891   133251241      74389\n",
       "123892   133251241      74390\n",
       "123893   133251241      74391\n",
       "123894   875523919      57359\n",
       "123895   307981533      20892\n",
       "123896   313382077      74392\n",
       "123897  test_isbn2       1676\n",
       "123898  test_isbn2      74394"
      ]
     },
     "execution_count": 8,
     "metadata": {},
     "output_type": "execute_result"
    }
   ],
   "source": [
    "get_table_from_db(\"bookauthor\").iloc[-10:]"
   ]
  },
  {
   "cell_type": "code",
   "execution_count": null,
   "metadata": {},
   "outputs": [],
   "source": []
  }
 ],
 "metadata": {
  "kernelspec": {
   "display_name": "book-recommendation",
   "language": "python",
   "name": "python3"
  },
  "language_info": {
   "codemirror_mode": {
    "name": "ipython",
    "version": 3
   },
   "file_extension": ".py",
   "mimetype": "text/x-python",
   "name": "python",
   "nbconvert_exporter": "python",
   "pygments_lexer": "ipython3",
   "version": "3.10.9"
  }
 },
 "nbformat": 4,
 "nbformat_minor": 2
}
