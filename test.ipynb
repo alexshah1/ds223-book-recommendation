{
 "cells": [
  {
   "cell_type": "code",
   "execution_count": 1,
   "metadata": {},
   "outputs": [
    {
     "name": "stderr",
     "output_type": "stream",
     "text": [
      "c:\\Users\\alexa\\Desktop\\Spring 2024\\DS 223 Marketing Analytics\\Project\\ds223-book-recommendation\\book-recommendation\\lib\\site-packages\\tqdm\\auto.py:21: TqdmWarning: IProgress not found. Please update jupyter and ipywidgets. See https://ipywidgets.readthedocs.io/en/stable/user_install.html\n",
      "  from .autonotebook import tqdm as notebook_tqdm\n"
     ]
    }
   ],
   "source": [
    "from kitab.db.functions import get_book_by_ISBN, add_book_db, update_book_db, get_table_from_db\n",
    "from kitab.db.db_info import user, port, password, host, database"
   ]
  },
  {
   "cell_type": "code",
   "execution_count": 3,
   "metadata": {},
   "outputs": [
    {
     "name": "stderr",
     "output_type": "stream",
     "text": [
      "\u001b[38;5;183m2024-04-08 10:54:40,059 - kitab.db.sql_interactions - insert_records - INFO - (1 records inserted successfully.) - line: 146\u001b[0m\n",
      "c:\\Users\\alexa\\Desktop\\Spring 2024\\DS 223 Marketing Analytics\\Project\\ds223-book-recommendation\\kitab\\db\\sql_interactions.py:239: UserWarning: pandas only supports SQLAlchemy connectable (engine/connection) or database string URI or sqlite3 DBAPI2 connection. Other DBAPI2 objects are not tested. Please consider using SQLAlchemy.\n",
      "  data = pd.read_sql(query, self.connection)\n",
      "\u001b[33;20m2024-04-08 10:54:40,461 - kitab.db.sql_interactions - insert_records - WARNING - (No records to insert.) - line: 135\u001b[0m\n",
      "\u001b[38;5;183m2024-04-08 10:54:40,475 - kitab.db.sql_interactions - insert_records - INFO - (2 records inserted successfully.) - line: 146\u001b[0m\n",
      "c:\\Users\\alexa\\Desktop\\Spring 2024\\DS 223 Marketing Analytics\\Project\\ds223-book-recommendation\\kitab\\db\\sql_interactions.py:239: UserWarning: pandas only supports SQLAlchemy connectable (engine/connection) or database string URI or sqlite3 DBAPI2 connection. Other DBAPI2 objects are not tested. Please consider using SQLAlchemy.\n",
      "  data = pd.read_sql(query, self.connection)\n",
      "\u001b[33;20m2024-04-08 10:54:40,498 - kitab.db.sql_interactions - insert_records - WARNING - (No records to insert.) - line: 135\u001b[0m\n",
      "\u001b[38;5;183m2024-04-08 10:54:40,503 - kitab.db.sql_interactions - insert_records - INFO - (2 records inserted successfully.) - line: 146\u001b[0m\n"
     ]
    }
   ],
   "source": [
    "add_book_db(\n",
    "    {\"ISBN\": \"teasast_isbn1\",\n",
    "     \"title\": \"test_title\",\n",
    "     \"description\": \"test_description\",\n",
    "     \"available\": True,\n",
    "     \"authors\": [\"test_author\", \"Agatha Christie\"], \n",
    "     \"genres\": [\"test_genre\", \"Fiction\"]}\n",
    ")"
   ]
  },
  {
   "cell_type": "code",
   "execution_count": 4,
   "metadata": {},
   "outputs": [
    {
     "name": "stderr",
     "output_type": "stream",
     "text": [
      "c:\\Users\\alexa\\Desktop\\Spring 2024\\DS 223 Marketing Analytics\\Project\\ds223-book-recommendation\\kitab\\db\\sql_interactions.py:236: UserWarning: pandas only supports SQLAlchemy connectable (engine/connection) or database string URI or sqlite3 DBAPI2 connection. Other DBAPI2 objects are not tested. Please consider using SQLAlchemy.\n",
      "  data = pd.read_sql(query, self.connection, params=values)\n",
      "c:\\Users\\alexa\\Desktop\\Spring 2024\\DS 223 Marketing Analytics\\Project\\ds223-book-recommendation\\kitab\\db\\sql_interactions.py:236: UserWarning: pandas only supports SQLAlchemy connectable (engine/connection) or database string URI or sqlite3 DBAPI2 connection. Other DBAPI2 objects are not tested. Please consider using SQLAlchemy.\n",
      "  data = pd.read_sql(query, self.connection, params=values)\n"
     ]
    },
    {
     "data": {
      "text/plain": [
       "({'isbn': 'test_isbn1',\n",
       "  'title': 'test_title',\n",
       "  'description': 'test_description',\n",
       "  'available': True},\n",
       " ['Agatha Christie', 'test_author'],\n",
       " ['Fiction', 'test_genre'])"
      ]
     },
     "execution_count": 4,
     "metadata": {},
     "output_type": "execute_result"
    }
   ],
   "source": [
    "get_book_by_ISBN(\"test_isbn1\")"
   ]
  },
  {
   "cell_type": "code",
   "execution_count": 5,
   "metadata": {},
   "outputs": [
    {
     "name": "stderr",
     "output_type": "stream",
     "text": [
      "c:\\Users\\alexa\\Desktop\\Spring 2024\\DS 223 Marketing Analytics\\Project\\ds223-book-recommendation\\kitab\\db\\sql_interactions.py:239: UserWarning: pandas only supports SQLAlchemy connectable (engine/connection) or database string URI or sqlite3 DBAPI2 connection. Other DBAPI2 objects are not tested. Please consider using SQLAlchemy.\n",
      "  data = pd.read_sql(query, self.connection)\n"
     ]
    },
    {
     "data": {
      "text/html": [
       "<div>\n",
       "<style scoped>\n",
       "    .dataframe tbody tr th:only-of-type {\n",
       "        vertical-align: middle;\n",
       "    }\n",
       "\n",
       "    .dataframe tbody tr th {\n",
       "        vertical-align: top;\n",
       "    }\n",
       "\n",
       "    .dataframe thead th {\n",
       "        text-align: right;\n",
       "    }\n",
       "</style>\n",
       "<table border=\"1\" class=\"dataframe\">\n",
       "  <thead>\n",
       "    <tr style=\"text-align: right;\">\n",
       "      <th></th>\n",
       "      <th>isbn</th>\n",
       "      <th>author_id</th>\n",
       "    </tr>\n",
       "  </thead>\n",
       "  <tbody>\n",
       "    <tr>\n",
       "      <th>123899</th>\n",
       "      <td>some_isbn</td>\n",
       "      <td>74396</td>\n",
       "    </tr>\n",
       "    <tr>\n",
       "      <th>123900</th>\n",
       "      <td>some_isbn1</td>\n",
       "      <td>74396</td>\n",
       "    </tr>\n",
       "    <tr>\n",
       "      <th>123901</th>\n",
       "      <td>some_isabn1</td>\n",
       "      <td>74396</td>\n",
       "    </tr>\n",
       "    <tr>\n",
       "      <th>123902</th>\n",
       "      <td>some_isasdabn1</td>\n",
       "      <td>74396</td>\n",
       "    </tr>\n",
       "    <tr>\n",
       "      <th>123903</th>\n",
       "      <td>some_isasdasasbn1</td>\n",
       "      <td>74396</td>\n",
       "    </tr>\n",
       "    <tr>\n",
       "      <th>123904</th>\n",
       "      <td>some_isasdasbn1</td>\n",
       "      <td>74397</td>\n",
       "    </tr>\n",
       "    <tr>\n",
       "      <th>123905</th>\n",
       "      <td>test_isbn1</td>\n",
       "      <td>74395</td>\n",
       "    </tr>\n",
       "    <tr>\n",
       "      <th>123906</th>\n",
       "      <td>test_isbn1</td>\n",
       "      <td>1676</td>\n",
       "    </tr>\n",
       "    <tr>\n",
       "      <th>123907</th>\n",
       "      <td>teasast_isbn1</td>\n",
       "      <td>74395</td>\n",
       "    </tr>\n",
       "    <tr>\n",
       "      <th>123908</th>\n",
       "      <td>teasast_isbn1</td>\n",
       "      <td>1676</td>\n",
       "    </tr>\n",
       "  </tbody>\n",
       "</table>\n",
       "</div>"
      ],
      "text/plain": [
       "                     isbn  author_id\n",
       "123899          some_isbn      74396\n",
       "123900         some_isbn1      74396\n",
       "123901        some_isabn1      74396\n",
       "123902     some_isasdabn1      74396\n",
       "123903  some_isasdasasbn1      74396\n",
       "123904    some_isasdasbn1      74397\n",
       "123905         test_isbn1      74395\n",
       "123906         test_isbn1       1676\n",
       "123907      teasast_isbn1      74395\n",
       "123908      teasast_isbn1       1676"
      ]
     },
     "execution_count": 5,
     "metadata": {},
     "output_type": "execute_result"
    }
   ],
   "source": [
    "get_table_from_db(\"bookauthor\").iloc[-10:]"
   ]
  },
  {
   "cell_type": "code",
   "execution_count": null,
   "metadata": {},
   "outputs": [],
   "source": []
  },
  {
   "cell_type": "code",
   "execution_count": 8,
   "metadata": {},
   "outputs": [
    {
     "name": "stderr",
     "output_type": "stream",
     "text": [
      "\u001b[38;5;183m2024-04-08 10:54:51,912 - kitab.db.sql_interactions - update_records - INFO - (Records updated successfully.) - line: 177\u001b[0m\n",
      "c:\\Users\\alexa\\Desktop\\Spring 2024\\DS 223 Marketing Analytics\\Project\\ds223-book-recommendation\\kitab\\db\\sql_interactions.py:239: UserWarning: pandas only supports SQLAlchemy connectable (engine/connection) or database string URI or sqlite3 DBAPI2 connection. Other DBAPI2 objects are not tested. Please consider using SQLAlchemy.\n",
      "  data = pd.read_sql(query, self.connection)\n",
      "\u001b[33;20m2024-04-08 10:54:52,068 - kitab.db.sql_interactions - insert_records - WARNING - (No records to insert.) - line: 135\u001b[0m\n",
      "\u001b[38;5;183m2024-04-08 10:54:52,068 - kitab.db.sql_interactions - remove_records - INFO - (Records removed successfully.) - line: 209\u001b[0m\n",
      "\u001b[38;5;183m2024-04-08 10:54:52,083 - kitab.db.sql_interactions - insert_records - INFO - (1 records inserted successfully.) - line: 146\u001b[0m\n"
     ]
    }
   ],
   "source": [
    "update_book_db(\"test_isbn1\", {\"ISBN\": \"test_isbsan2\", \"authors\": [\"Agatha Christie\", \"test_author2\"]})"
   ]
  },
  {
   "cell_type": "code",
   "execution_count": 9,
   "metadata": {},
   "outputs": [
    {
     "name": "stderr",
     "output_type": "stream",
     "text": [
      "c:\\Users\\alexa\\Desktop\\Spring 2024\\DS 223 Marketing Analytics\\Project\\ds223-book-recommendation\\kitab\\db\\sql_interactions.py:236: UserWarning: pandas only supports SQLAlchemy connectable (engine/connection) or database string URI or sqlite3 DBAPI2 connection. Other DBAPI2 objects are not tested. Please consider using SQLAlchemy.\n",
      "  data = pd.read_sql(query, self.connection, params=values)\n",
      "c:\\Users\\alexa\\Desktop\\Spring 2024\\DS 223 Marketing Analytics\\Project\\ds223-book-recommendation\\kitab\\db\\sql_interactions.py:236: UserWarning: pandas only supports SQLAlchemy connectable (engine/connection) or database string URI or sqlite3 DBAPI2 connection. Other DBAPI2 objects are not tested. Please consider using SQLAlchemy.\n",
      "  data = pd.read_sql(query, self.connection, params=values)\n",
      "c:\\Users\\alexa\\Desktop\\Spring 2024\\DS 223 Marketing Analytics\\Project\\ds223-book-recommendation\\kitab\\db\\sql_interactions.py:236: UserWarning: pandas only supports SQLAlchemy connectable (engine/connection) or database string URI or sqlite3 DBAPI2 connection. Other DBAPI2 objects are not tested. Please consider using SQLAlchemy.\n",
      "  data = pd.read_sql(query, self.connection, params=values)\n"
     ]
    },
    {
     "data": {
      "text/plain": [
       "(None, None, None)"
      ]
     },
     "execution_count": 9,
     "metadata": {},
     "output_type": "execute_result"
    }
   ],
   "source": [
    "get_book_by_ISBN(\"test_isbn1\")"
   ]
  },
  {
   "cell_type": "code",
   "execution_count": 10,
   "metadata": {},
   "outputs": [
    {
     "name": "stderr",
     "output_type": "stream",
     "text": [
      "c:\\Users\\alexa\\Desktop\\Spring 2024\\DS 223 Marketing Analytics\\Project\\ds223-book-recommendation\\kitab\\db\\sql_interactions.py:236: UserWarning: pandas only supports SQLAlchemy connectable (engine/connection) or database string URI or sqlite3 DBAPI2 connection. Other DBAPI2 objects are not tested. Please consider using SQLAlchemy.\n",
      "  data = pd.read_sql(query, self.connection, params=values)\n",
      "c:\\Users\\alexa\\Desktop\\Spring 2024\\DS 223 Marketing Analytics\\Project\\ds223-book-recommendation\\kitab\\db\\sql_interactions.py:236: UserWarning: pandas only supports SQLAlchemy connectable (engine/connection) or database string URI or sqlite3 DBAPI2 connection. Other DBAPI2 objects are not tested. Please consider using SQLAlchemy.\n",
      "  data = pd.read_sql(query, self.connection, params=values)\n"
     ]
    },
    {
     "data": {
      "text/plain": [
       "({'isbn': 'test_isbn2',\n",
       "  'title': 'test_title',\n",
       "  'description': 'test_description',\n",
       "  'available': True},\n",
       " ['Agatha Christie', 'test_author2'],\n",
       " ['Fiction', 'test_genre'])"
      ]
     },
     "execution_count": 10,
     "metadata": {},
     "output_type": "execute_result"
    }
   ],
   "source": [
    "get_book_by_ISBN(\"test_isbn2\")"
   ]
  },
  {
   "cell_type": "code",
   "execution_count": 11,
   "metadata": {},
   "outputs": [
    {
     "name": "stderr",
     "output_type": "stream",
     "text": [
      "c:\\Users\\alexa\\Desktop\\Spring 2024\\DS 223 Marketing Analytics\\Project\\ds223-book-recommendation\\kitab\\db\\sql_interactions.py:239: UserWarning: pandas only supports SQLAlchemy connectable (engine/connection) or database string URI or sqlite3 DBAPI2 connection. Other DBAPI2 objects are not tested. Please consider using SQLAlchemy.\n",
      "  data = pd.read_sql(query, self.connection)\n"
     ]
    },
    {
     "data": {
      "text/html": [
       "<div>\n",
       "<style scoped>\n",
       "    .dataframe tbody tr th:only-of-type {\n",
       "        vertical-align: middle;\n",
       "    }\n",
       "\n",
       "    .dataframe tbody tr th {\n",
       "        vertical-align: top;\n",
       "    }\n",
       "\n",
       "    .dataframe thead th {\n",
       "        text-align: right;\n",
       "    }\n",
       "</style>\n",
       "<table border=\"1\" class=\"dataframe\">\n",
       "  <thead>\n",
       "    <tr style=\"text-align: right;\">\n",
       "      <th></th>\n",
       "      <th>isbn</th>\n",
       "      <th>author_id</th>\n",
       "    </tr>\n",
       "  </thead>\n",
       "  <tbody>\n",
       "    <tr>\n",
       "      <th>123899</th>\n",
       "      <td>some_isbn</td>\n",
       "      <td>74396</td>\n",
       "    </tr>\n",
       "    <tr>\n",
       "      <th>123900</th>\n",
       "      <td>some_isbn1</td>\n",
       "      <td>74396</td>\n",
       "    </tr>\n",
       "    <tr>\n",
       "      <th>123901</th>\n",
       "      <td>some_isabn1</td>\n",
       "      <td>74396</td>\n",
       "    </tr>\n",
       "    <tr>\n",
       "      <th>123902</th>\n",
       "      <td>some_isasdabn1</td>\n",
       "      <td>74396</td>\n",
       "    </tr>\n",
       "    <tr>\n",
       "      <th>123903</th>\n",
       "      <td>some_isasdasasbn1</td>\n",
       "      <td>74396</td>\n",
       "    </tr>\n",
       "    <tr>\n",
       "      <th>123904</th>\n",
       "      <td>some_isasdasbn1</td>\n",
       "      <td>74397</td>\n",
       "    </tr>\n",
       "    <tr>\n",
       "      <th>123905</th>\n",
       "      <td>teasast_isbn1</td>\n",
       "      <td>74395</td>\n",
       "    </tr>\n",
       "    <tr>\n",
       "      <th>123906</th>\n",
       "      <td>teasast_isbn1</td>\n",
       "      <td>1676</td>\n",
       "    </tr>\n",
       "    <tr>\n",
       "      <th>123907</th>\n",
       "      <td>test_isbsan2</td>\n",
       "      <td>1676</td>\n",
       "    </tr>\n",
       "    <tr>\n",
       "      <th>123908</th>\n",
       "      <td>test_isbsan2</td>\n",
       "      <td>74394</td>\n",
       "    </tr>\n",
       "  </tbody>\n",
       "</table>\n",
       "</div>"
      ],
      "text/plain": [
       "                     isbn  author_id\n",
       "123899          some_isbn      74396\n",
       "123900         some_isbn1      74396\n",
       "123901        some_isabn1      74396\n",
       "123902     some_isasdabn1      74396\n",
       "123903  some_isasdasasbn1      74396\n",
       "123904    some_isasdasbn1      74397\n",
       "123905      teasast_isbn1      74395\n",
       "123906      teasast_isbn1       1676\n",
       "123907       test_isbsan2       1676\n",
       "123908       test_isbsan2      74394"
      ]
     },
     "execution_count": 11,
     "metadata": {},
     "output_type": "execute_result"
    }
   ],
   "source": [
    "get_table_from_db(\"bookauthor\").iloc[-10:]"
   ]
  },
  {
   "cell_type": "code",
   "execution_count": null,
   "metadata": {},
   "outputs": [],
   "source": []
  }
 ],
 "metadata": {
  "kernelspec": {
   "display_name": "book-recommendation",
   "language": "python",
   "name": "python3"
  },
  "language_info": {
   "codemirror_mode": {
    "name": "ipython",
    "version": 3
   },
   "file_extension": ".py",
   "mimetype": "text/x-python",
   "name": "python",
   "nbconvert_exporter": "python",
   "pygments_lexer": "ipython3",
   "version": "3.10.9"
  }
 },
 "nbformat": 4,
 "nbformat_minor": 2
}
