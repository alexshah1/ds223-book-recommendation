{
 "cells": [
  {
   "cell_type": "markdown",
   "metadata": {},
   "source": [
    "## Loading Data\n",
    "\n",
    "To start using the package functionalities, we need to load the data first. The data can be provided as a CSV file, which should include the following columns:\n",
    "\n",
    "<br>\n",
    "<center>\n",
    "\n",
    "| Column Name | Data Type | Description                  |\n",
    "|-------------|-----------|------------------------------|\n",
    "| isbn        | str       | the ISBN of the book         |\n",
    "| title       | str       | the title of the book        |\n",
    "| description | str       | the description of the book  |\n",
    "| author      | list[str] | the author(s) of the book    |\n",
    "| genre       | list[str] | the genre(s) of the book     |\n",
    "| available   | bool      | the availability of the book |\n",
    "\n",
    "</center>\n",
    "<br>\n",
    "\n",
    "<i>Note: The table names might be different than the ones mentioned above. In that case, an additional parameter should be provided to specify the column names (`column_names` in `process_data()`).</i>\n",
    "\n",
    "Before loading the data we need to process it. The `process_data()` function will process the data and generate the embeddings (this might take a while). It will split the data into parts, generate embeddings, store them in a specified folder. The folder will have numbered CSVs with the processed data and PKLs with the embeddings."
   ]
  },
  {
   "cell_type": "code",
   "execution_count": null,
   "metadata": {},
   "outputs": [],
   "source": [
    "from kitab.utils import process_data\n",
    "\n",
    "filepath = \"data.csv\"\n",
    "destination_folder = \"data\"\n",
    "\n",
    "process_data(filepath, destination_folder)"
   ]
  },
  {
   "cell_type": "markdown",
   "metadata": {},
   "source": [
    "Then we need to load the data into the database. For this, we need to provide the following database connection details in the `.env`:\n",
    "\n",
    "<br>\n",
    "<center>\n",
    "\n",
    "| Parameter   | Description |\n",
    "|-------------|-------------|\n",
    "| DB_USER     | str         |\n",
    "| DB_PASSWORD | str         |\n",
    "| DB_HOST     | str         |\n",
    "| DB_PORT     | str or int  |\n",
    "| DB_NAME     | str         |\n",
    "\n",
    "</center>\n",
    "<br>\n",
    "\n",
    "After that, we can load the data into the database using the `load_data()` function."
   ]
  },
  {
   "cell_type": "code",
   "execution_count": null,
   "metadata": {},
   "outputs": [],
   "source": [
    "from dotenv import load_dotenv, find_dotenv\n",
    "load_dotenv(find_dotenv())\n",
    "\n",
    "from kitab.db.get_data import load_data\n",
    "\n",
    "load_data(\"data\")"
   ]
  },
  {
   "cell_type": "markdown",
   "metadata": {},
   "source": [
    "Now, we're ready to use the package functionalities."
   ]
  },
  {
   "cell_type": "markdown",
   "metadata": {},
   "source": [
    "## Model"
   ]
  },
  {
   "cell_type": "markdown",
   "metadata": {},
   "source": [
    "The package includes a model that can be used to recommend books. The model computes similarity search between book descriptions by using the embeddings to find the most similar books to the given book. The model can be used to recommend books based on the book description, ISBN, or title. For the latter two, the book must be present in the database, so that the description can be retrieved and used for the similarity search. Let's have a look at these three different ways to recommend books."
   ]
  },
  {
   "cell_type": "code",
   "execution_count": null,
   "metadata": {},
   "outputs": [],
   "source": [
    "from kitab.recommendation_model.models import recommend_books\n",
    "\n",
    "description = \"In this thrilling detective tale, a group of childhood friends accidentally stumble upon an ancient artifact hidden in their clubhouse. Little do they know, their discovery thrusts them into a dangerous conspiracy spanning centuries. As they uncover clues, they race against time to prevent a cataclysmic event that could reshape the world. Join them on a heart-pounding journey through shadows and secrets in this gripping mystery.\"\n",
    "\n",
    "recommend_books(description, n=5)"
   ]
  },
  {
   "cell_type": "code",
   "execution_count": null,
   "metadata": {},
   "outputs": [],
   "source": [
    "from kitab.recommendation_model.models import recommend_books_by_ISBN\n",
    "\n",
    "recommend_books_by_ISBN(ISBN=\"1442942355\", n=5)"
   ]
  },
  {
   "cell_type": "code",
   "execution_count": null,
   "metadata": {},
   "outputs": [],
   "source": [
    "from kitab.recommendation_model.models import recommend_books_by_title\n",
    "\n",
    "recommend_books_by_title(title=\"The Ghostly Rental\", n=5)"
   ]
  },
  {
   "cell_type": "markdown",
   "metadata": {},
   "source": [
    "## Database Functions"
   ]
  },
  {
   "cell_type": "markdown",
   "metadata": {},
   "source": [
    "We have implemented a range of functions to interact with the database. These functions can be used to retrieve books (by ISBN or title); add or update books; get lists of authors and genres for specific books (by ISBNs); add and retrieve recommendation logs; and get a certain table. Let's test these functions one by one."
   ]
  },
  {
   "cell_type": "code",
   "execution_count": null,
   "metadata": {},
   "outputs": [],
   "source": [
    "from kitab.db.functions import get_book_by_ISBN\n",
    "\n",
    "get_book_by_ISBN(\"1442942355\")"
   ]
  },
  {
   "cell_type": "code",
   "execution_count": null,
   "metadata": {},
   "outputs": [],
   "source": [
    "from kitab.db.functions import get_book_by_title\n",
    "\n",
    "get_book_by_title(\"The Ghostly Rental\")"
   ]
  },
  {
   "cell_type": "code",
   "execution_count": null,
   "metadata": {},
   "outputs": [],
   "source": [
    "from kitab.db.functions import add_book_db\n",
    "\n",
    "add_book_db({\n",
    "    \"ISBN\": \"123456789\",\n",
    "    \"title\": \"Thrilling Detective Tale\",\n",
    "    \"description\": \"In this thrilling detective tale, a group of childhood friends accidentally stumble upon an ancient artifact hidden in their clubhouse. Little do they know, their discovery thrusts them into a dangerous conspiracy spanning centuries. As they uncover\",\n",
    "    \"available\": True,\n",
    "    \"authors\": [\"Arthur Conan Doyle\", \"Agatha Christie\"], \n",
    "    \"genres\": [\"Detective\", \"Fiction\"]\n",
    "})"
   ]
  },
  {
   "cell_type": "code",
   "execution_count": null,
   "metadata": {},
   "outputs": [],
   "source": [
    "from kitab.db.functions import update_book_db\n",
    "\n",
    "update_book_db(\"1442942355\", {\n",
    "    \"available\": True,\n",
    "    \"genres\": [\"Horror\", \"Short Stories\", \"Mystery\"]\n",
    "})"
   ]
  },
  {
   "cell_type": "code",
   "execution_count": null,
   "metadata": {},
   "outputs": [],
   "source": [
    "from kitab.db.functions import get_authors\n",
    "\n",
    "get_authors(ISBNs=[\"1442942355\", \"1613720211\"])"
   ]
  },
  {
   "cell_type": "code",
   "execution_count": null,
   "metadata": {},
   "outputs": [],
   "source": [
    "from kitab.db.functions import get_genres\n",
    "\n",
    "get_genres(ISBNs=[\"1442942355\", \"1613720211\"])"
   ]
  },
  {
   "cell_type": "code",
   "execution_count": null,
   "metadata": {},
   "outputs": [],
   "source": [
    "from kitab.db.functions import add_recommendation_log\n",
    "\n",
    "add_recommendation_log(description=\"In a masterful blend of psychological intrigue and spectral disturbances, this novel unfurls the complex life of Clara. Her internal struggles are mirrored by eerie, inexplicable occurrences, weaving a tale that is both deeply personal and chillingly atmospheric, offering an unparalleled exploration of the human psyche shadowed by the paranormal.\", recommendation_isbn=\"1442942355\", successful=True)"
   ]
  },
  {
   "cell_type": "code",
   "execution_count": null,
   "metadata": {},
   "outputs": [],
   "source": [
    "from kitab.db.functions import get_history_by_recommendation_isbn\n",
    "\n",
    "get_history_by_recommendation_isbn(recommendation_isbn=\"1442942355\")"
   ]
  },
  {
   "cell_type": "code",
   "execution_count": null,
   "metadata": {},
   "outputs": [],
   "source": [
    "from kitab.db.functions import get_table_from_db\n",
    "\n",
    "get_table_from_db(\"book\", conditions={\"available\": True})"
   ]
  }
 ],
 "metadata": {
  "kernelspec": {
   "display_name": "book-recommendation",
   "language": "python",
   "name": "python3"
  },
  "language_info": {
   "codemirror_mode": {
    "name": "ipython",
    "version": 3
   },
   "file_extension": ".py",
   "mimetype": "text/x-python",
   "name": "python",
   "nbconvert_exporter": "python",
   "pygments_lexer": "ipython3",
   "version": "3.10.9"
  }
 },
 "nbformat": 4,
 "nbformat_minor": 2
}
