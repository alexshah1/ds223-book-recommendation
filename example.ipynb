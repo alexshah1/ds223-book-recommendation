{
 "cells": [
  {
   "cell_type": "markdown",
   "metadata": {},
   "source": [
    "## Loading Data\n",
    "\n",
    "To start using the package functionalities, we need to load the data first. The data can be provided as a CSV file, which should include the following columns:\n",
    "\n",
    "<br>\n",
    "<center>\n",
    "\n",
    "| Column Name | Data Type | Description                  |\n",
    "|-------------|-----------|------------------------------|\n",
    "| isbn        | str       | the ISBN of the book         |\n",
    "| title       | str       | the title of the book        |\n",
    "| description | str       | the description of the book  |\n",
    "| author      | list[str] | the author(s) of the book    |\n",
    "| genre       | list[str] | the genre(s) of the book     |\n",
    "| available   | bool      | the availability of the book |\n",
    "\n",
    "</center>\n",
    "<br>\n",
    "\n",
    "<i>Note: The table names might be different than the ones mentioned above. In that case, an additional parameter should be provided to specify the column names (`column_names` in `process_data()`).</i>\n",
    "\n",
    "Before loading the data we need to process it. The `process_data()` function will process the data and generate the embeddings (this might take a while). It will split the data into parts, generate embeddings, store them in a specified folder. The folder will have numbered CSVs with the processed data and PKLs with the embeddings."
   ]
  },
  {
   "cell_type": "code",
   "execution_count": null,
   "metadata": {},
   "outputs": [],
   "source": [
    "from kitab.utils import process_data\n",
    "\n",
    "filepath = \"data.csv\"\n",
    "destination_folder = \"data\"\n",
    "\n",
    "process_data(filepath, destination_folder)"
   ]
  },
  {
   "cell_type": "markdown",
   "metadata": {},
   "source": [
    "Then we need to load the data into the database. For this, we need to provide the following database connection details in the `.env`:\n",
    "\n",
    "<br>\n",
    "<center>\n",
    "\n",
    "| Parameter   | Description |\n",
    "|-------------|-------------|\n",
    "| DB_USER     | str         |\n",
    "| DB_PASSWORD | str         |\n",
    "| DB_HOST     | str         |\n",
    "| DB_PORT     | str or int  |\n",
    "| DB_NAME     | str         |\n",
    "\n",
    "</center>\n",
    "<br>\n",
    "\n",
    "After that, we can load the data into the database using the `load_data()` function."
   ]
  },
  {
   "cell_type": "code",
   "execution_count": null,
   "metadata": {},
   "outputs": [],
   "source": [
    "from dotenv import load_dotenv, find_dotenv\n",
    "load_dotenv(find_dotenv())\n",
    "\n",
    "from kitab.db.get_data import load_data\n",
    "\n",
    "load_data(destination_folder)"
   ]
  },
  {
   "cell_type": "markdown",
   "metadata": {},
   "source": [
    "Now, we're ready to use the package functionalities."
   ]
  },
  {
   "cell_type": "markdown",
   "metadata": {},
   "source": [
    "## Model"
   ]
  },
  {
   "cell_type": "code",
   "execution_count": null,
   "metadata": {},
   "outputs": [],
   "source": [
    "from kitab.recommendation_model.models import recommend_books\n",
    "\n",
    "description = \"In this thrilling detective tale, a group of childhood friends accidentally stumble upon an ancient artifact hidden in their clubhouse. Little do they know, their discovery thrusts them into a dangerous conspiracy spanning centuries. As they uncover clues, they race against time to prevent a cataclysmic event that could reshape the world. Join them on a heart-pounding journey through shadows and secrets in this gripping mystery.\"\n",
    "\n",
    "recommend_books(description, n=5)"
   ]
  },
  {
   "cell_type": "code",
   "execution_count": null,
   "metadata": {},
   "outputs": [],
   "source": [
    "from kitab.recommendation_model.models import recommend_books_by_ISBN\n",
    "\n",
    "recommend_books_by_ISBN(ISBN=\"1442942355\", n=5)"
   ]
  },
  {
   "cell_type": "code",
   "execution_count": null,
   "metadata": {},
   "outputs": [],
   "source": [
    "from kitab.recommendation_model.models import recommend_books_by_title\n",
    "\n",
    "recommend_books_by_title(title=\"The Ghostly Rental\", n=5)"
   ]
  },
  {
   "cell_type": "markdown",
   "metadata": {},
   "source": [
    "## Database Functions"
   ]
  },
  {
   "cell_type": "code",
   "execution_count": 1,
   "metadata": {},
   "outputs": [
    {
     "name": "stderr",
     "output_type": "stream",
     "text": [
      "c:\\Users\\alexa\\Desktop\\Spring 2024\\DS 223 Marketing Analytics\\Project\\ds223-book-recommendation\\book-recommendation\\lib\\site-packages\\tqdm\\auto.py:21: TqdmWarning: IProgress not found. Please update jupyter and ipywidgets. See https://ipywidgets.readthedocs.io/en/stable/user_install.html\n",
      "  from .autonotebook import tqdm as notebook_tqdm\n"
     ]
    }
   ],
   "source": [
    "from kitab.db.functions import add_book_db, get_book_by_ISBN, add_book_db, update_book_db, get_table_from_db"
   ]
  },
  {
   "cell_type": "code",
   "execution_count": 2,
   "metadata": {},
   "outputs": [
    {
     "name": "stderr",
     "output_type": "stream",
     "text": [
      "\u001b[38;5;183m2024-04-09 22:36:38,008 - kitab.db.sql_interactions - insert_records - INFO - (1 records inserted successfully.) - line: 148\u001b[0m\n",
      "c:\\Users\\alexa\\Desktop\\Spring 2024\\DS 223 Marketing Analytics\\Project\\ds223-book-recommendation\\kitab\\db\\sql_interactions.py:241: UserWarning: pandas only supports SQLAlchemy connectable (engine/connection) or database string URI or sqlite3 DBAPI2 connection. Other DBAPI2 objects are not tested. Please consider using SQLAlchemy.\n",
      "  data = pd.read_sql(query, self.connection)\n",
      "\u001b[33;20m2024-04-09 22:36:38,231 - kitab.db.sql_interactions - insert_records - WARNING - (No records to insert.) - line: 137\u001b[0m\n",
      "\u001b[38;5;183m2024-04-09 22:36:38,272 - kitab.db.sql_interactions - insert_records - INFO - (2 records inserted successfully.) - line: 148\u001b[0m\n",
      "c:\\Users\\alexa\\Desktop\\Spring 2024\\DS 223 Marketing Analytics\\Project\\ds223-book-recommendation\\kitab\\db\\sql_interactions.py:241: UserWarning: pandas only supports SQLAlchemy connectable (engine/connection) or database string URI or sqlite3 DBAPI2 connection. Other DBAPI2 objects are not tested. Please consider using SQLAlchemy.\n",
      "  data = pd.read_sql(query, self.connection)\n",
      "\u001b[33;20m2024-04-09 22:36:38,293 - kitab.db.sql_interactions - insert_records - WARNING - (No records to insert.) - line: 137\u001b[0m\n",
      "\u001b[38;5;183m2024-04-09 22:36:38,305 - kitab.db.sql_interactions - insert_records - INFO - (2 records inserted successfully.) - line: 148\u001b[0m\n"
     ]
    }
   ],
   "source": [
    "add_book_db(\n",
    "    {\"ISBN\": \"test_isbn\",\n",
    "     \"title\": \"test_title\",\n",
    "     \"description\": \"test_description\",\n",
    "     \"available\": True,\n",
    "     \"authors\": [\"test_author\", \"Agatha Christie\"], \n",
    "     \"genres\": [\"test_genre\", \"Fiction\"]}\n",
    ")"
   ]
  },
  {
   "cell_type": "code",
   "execution_count": 3,
   "metadata": {},
   "outputs": [
    {
     "name": "stderr",
     "output_type": "stream",
     "text": [
      "c:\\Users\\alexa\\Desktop\\Spring 2024\\DS 223 Marketing Analytics\\Project\\ds223-book-recommendation\\kitab\\db\\sql_interactions.py:238: UserWarning: pandas only supports SQLAlchemy connectable (engine/connection) or database string URI or sqlite3 DBAPI2 connection. Other DBAPI2 objects are not tested. Please consider using SQLAlchemy.\n",
      "  data = pd.read_sql(query, self.connection, params=values)\n"
     ]
    }
   ],
   "source": [
    "get_book_by_ISBN(\"test_isbn1\")"
   ]
  },
  {
   "cell_type": "code",
   "execution_count": 4,
   "metadata": {},
   "outputs": [
    {
     "name": "stderr",
     "output_type": "stream",
     "text": [
      "c:\\Users\\alexa\\Desktop\\Spring 2024\\DS 223 Marketing Analytics\\Project\\ds223-book-recommendation\\kitab\\db\\sql_interactions.py:241: UserWarning: pandas only supports SQLAlchemy connectable (engine/connection) or database string URI or sqlite3 DBAPI2 connection. Other DBAPI2 objects are not tested. Please consider using SQLAlchemy.\n",
      "  data = pd.read_sql(query, self.connection)\n"
     ]
    },
    {
     "data": {
      "text/html": [
       "<div>\n",
       "<style scoped>\n",
       "    .dataframe tbody tr th:only-of-type {\n",
       "        vertical-align: middle;\n",
       "    }\n",
       "\n",
       "    .dataframe tbody tr th {\n",
       "        vertical-align: top;\n",
       "    }\n",
       "\n",
       "    .dataframe thead th {\n",
       "        text-align: right;\n",
       "    }\n",
       "</style>\n",
       "<table border=\"1\" class=\"dataframe\">\n",
       "  <thead>\n",
       "    <tr style=\"text-align: right;\">\n",
       "      <th></th>\n",
       "      <th>isbn</th>\n",
       "      <th>author_id</th>\n",
       "    </tr>\n",
       "  </thead>\n",
       "  <tbody>\n",
       "    <tr>\n",
       "      <th>123901</th>\n",
       "      <td>some_isabn1</td>\n",
       "      <td>74396</td>\n",
       "    </tr>\n",
       "    <tr>\n",
       "      <th>123902</th>\n",
       "      <td>some_isasdabn1</td>\n",
       "      <td>74396</td>\n",
       "    </tr>\n",
       "    <tr>\n",
       "      <th>123903</th>\n",
       "      <td>some_isasdasasbn1</td>\n",
       "      <td>74396</td>\n",
       "    </tr>\n",
       "    <tr>\n",
       "      <th>123904</th>\n",
       "      <td>some_isasdasbn1</td>\n",
       "      <td>74397</td>\n",
       "    </tr>\n",
       "    <tr>\n",
       "      <th>123905</th>\n",
       "      <td>teasast_isbn1</td>\n",
       "      <td>74395</td>\n",
       "    </tr>\n",
       "    <tr>\n",
       "      <th>123906</th>\n",
       "      <td>teasast_isbn1</td>\n",
       "      <td>1676</td>\n",
       "    </tr>\n",
       "    <tr>\n",
       "      <th>123907</th>\n",
       "      <td>test_isbsan2</td>\n",
       "      <td>1676</td>\n",
       "    </tr>\n",
       "    <tr>\n",
       "      <th>123908</th>\n",
       "      <td>test_isbsan2</td>\n",
       "      <td>74394</td>\n",
       "    </tr>\n",
       "    <tr>\n",
       "      <th>123909</th>\n",
       "      <td>test_isbn</td>\n",
       "      <td>74395</td>\n",
       "    </tr>\n",
       "    <tr>\n",
       "      <th>123910</th>\n",
       "      <td>test_isbn</td>\n",
       "      <td>1676</td>\n",
       "    </tr>\n",
       "  </tbody>\n",
       "</table>\n",
       "</div>"
      ],
      "text/plain": [
       "                     isbn  author_id\n",
       "123901        some_isabn1      74396\n",
       "123902     some_isasdabn1      74396\n",
       "123903  some_isasdasasbn1      74396\n",
       "123904    some_isasdasbn1      74397\n",
       "123905      teasast_isbn1      74395\n",
       "123906      teasast_isbn1       1676\n",
       "123907       test_isbsan2       1676\n",
       "123908       test_isbsan2      74394\n",
       "123909          test_isbn      74395\n",
       "123910          test_isbn       1676"
      ]
     },
     "execution_count": 4,
     "metadata": {},
     "output_type": "execute_result"
    }
   ],
   "source": [
    "get_table_from_db(\"bookauthor\").iloc[-10:]"
   ]
  },
  {
   "cell_type": "code",
   "execution_count": null,
   "metadata": {},
   "outputs": [],
   "source": []
  },
  {
   "cell_type": "code",
   "execution_count": 5,
   "metadata": {},
   "outputs": [
    {
     "name": "stderr",
     "output_type": "stream",
     "text": [
      "\u001b[38;5;183m2024-04-09 22:36:38,932 - kitab.db.sql_interactions - update_records - INFO - (Records updated successfully.) - line: 179\u001b[0m\n",
      "c:\\Users\\alexa\\Desktop\\Spring 2024\\DS 223 Marketing Analytics\\Project\\ds223-book-recommendation\\kitab\\db\\sql_interactions.py:238: UserWarning: pandas only supports SQLAlchemy connectable (engine/connection) or database string URI or sqlite3 DBAPI2 connection. Other DBAPI2 objects are not tested. Please consider using SQLAlchemy.\n",
      "  data = pd.read_sql(query, self.connection, params=values)\n",
      "c:\\Users\\alexa\\Desktop\\Spring 2024\\DS 223 Marketing Analytics\\Project\\ds223-book-recommendation\\kitab\\db\\sql_interactions.py:241: UserWarning: pandas only supports SQLAlchemy connectable (engine/connection) or database string URI or sqlite3 DBAPI2 connection. Other DBAPI2 objects are not tested. Please consider using SQLAlchemy.\n",
      "  data = pd.read_sql(query, self.connection)\n",
      "\u001b[33;20m2024-04-09 22:36:39,133 - kitab.db.sql_interactions - insert_records - WARNING - (No records to insert.) - line: 137\u001b[0m\n",
      "\u001b[33;20m2024-04-09 22:36:39,140 - kitab.db.sql_interactions - remove_records - WARNING - (No conditions provided for removing records.) - line: 194\u001b[0m\n",
      "\u001b[33;20m2024-04-09 22:36:39,140 - kitab.db.sql_interactions - insert_records - WARNING - (No records to insert.) - line: 137\u001b[0m\n"
     ]
    }
   ],
   "source": [
    "update_book_db(\"test_isbn1\", {\"ISBN\": \"test_isbsan2\", \"authors\": [\"Agatha Christie\", \"test_author2\"]})"
   ]
  },
  {
   "cell_type": "code",
   "execution_count": 6,
   "metadata": {},
   "outputs": [
    {
     "name": "stderr",
     "output_type": "stream",
     "text": [
      "c:\\Users\\alexa\\Desktop\\Spring 2024\\DS 223 Marketing Analytics\\Project\\ds223-book-recommendation\\kitab\\db\\sql_interactions.py:238: UserWarning: pandas only supports SQLAlchemy connectable (engine/connection) or database string URI or sqlite3 DBAPI2 connection. Other DBAPI2 objects are not tested. Please consider using SQLAlchemy.\n",
      "  data = pd.read_sql(query, self.connection, params=values)\n"
     ]
    }
   ],
   "source": [
    "get_book_by_ISBN(\"test_isbn1\")"
   ]
  },
  {
   "cell_type": "code",
   "execution_count": 7,
   "metadata": {},
   "outputs": [
    {
     "name": "stderr",
     "output_type": "stream",
     "text": [
      "c:\\Users\\alexa\\Desktop\\Spring 2024\\DS 223 Marketing Analytics\\Project\\ds223-book-recommendation\\kitab\\db\\sql_interactions.py:238: UserWarning: pandas only supports SQLAlchemy connectable (engine/connection) or database string URI or sqlite3 DBAPI2 connection. Other DBAPI2 objects are not tested. Please consider using SQLAlchemy.\n",
      "  data = pd.read_sql(query, self.connection, params=values)\n",
      "c:\\Users\\alexa\\Desktop\\Spring 2024\\DS 223 Marketing Analytics\\Project\\ds223-book-recommendation\\kitab\\db\\sql_interactions.py:238: UserWarning: pandas only supports SQLAlchemy connectable (engine/connection) or database string URI or sqlite3 DBAPI2 connection. Other DBAPI2 objects are not tested. Please consider using SQLAlchemy.\n",
      "  data = pd.read_sql(query, self.connection, params=values)\n"
     ]
    },
    {
     "data": {
      "text/plain": [
       "{'isbn': 'test_isbn2',\n",
       " 'title': 'test_title',\n",
       " 'description': 'test_description',\n",
       " 'available': True,\n",
       " 'authors': ['Agatha Christie', 'test_author2'],\n",
       " 'genres': ['Fiction', 'test_genre']}"
      ]
     },
     "execution_count": 7,
     "metadata": {},
     "output_type": "execute_result"
    }
   ],
   "source": [
    "get_book_by_ISBN(\"test_isbn2\")"
   ]
  },
  {
   "cell_type": "code",
   "execution_count": 8,
   "metadata": {},
   "outputs": [
    {
     "name": "stderr",
     "output_type": "stream",
     "text": [
      "c:\\Users\\alexa\\Desktop\\Spring 2024\\DS 223 Marketing Analytics\\Project\\ds223-book-recommendation\\kitab\\db\\sql_interactions.py:241: UserWarning: pandas only supports SQLAlchemy connectable (engine/connection) or database string URI or sqlite3 DBAPI2 connection. Other DBAPI2 objects are not tested. Please consider using SQLAlchemy.\n",
      "  data = pd.read_sql(query, self.connection)\n"
     ]
    },
    {
     "data": {
      "text/html": [
       "<div>\n",
       "<style scoped>\n",
       "    .dataframe tbody tr th:only-of-type {\n",
       "        vertical-align: middle;\n",
       "    }\n",
       "\n",
       "    .dataframe tbody tr th {\n",
       "        vertical-align: top;\n",
       "    }\n",
       "\n",
       "    .dataframe thead th {\n",
       "        text-align: right;\n",
       "    }\n",
       "</style>\n",
       "<table border=\"1\" class=\"dataframe\">\n",
       "  <thead>\n",
       "    <tr style=\"text-align: right;\">\n",
       "      <th></th>\n",
       "      <th>isbn</th>\n",
       "      <th>author_id</th>\n",
       "    </tr>\n",
       "  </thead>\n",
       "  <tbody>\n",
       "    <tr>\n",
       "      <th>123901</th>\n",
       "      <td>some_isabn1</td>\n",
       "      <td>74396</td>\n",
       "    </tr>\n",
       "    <tr>\n",
       "      <th>123902</th>\n",
       "      <td>some_isasdabn1</td>\n",
       "      <td>74396</td>\n",
       "    </tr>\n",
       "    <tr>\n",
       "      <th>123903</th>\n",
       "      <td>some_isasdasasbn1</td>\n",
       "      <td>74396</td>\n",
       "    </tr>\n",
       "    <tr>\n",
       "      <th>123904</th>\n",
       "      <td>some_isasdasbn1</td>\n",
       "      <td>74397</td>\n",
       "    </tr>\n",
       "    <tr>\n",
       "      <th>123905</th>\n",
       "      <td>teasast_isbn1</td>\n",
       "      <td>74395</td>\n",
       "    </tr>\n",
       "    <tr>\n",
       "      <th>123906</th>\n",
       "      <td>teasast_isbn1</td>\n",
       "      <td>1676</td>\n",
       "    </tr>\n",
       "    <tr>\n",
       "      <th>123907</th>\n",
       "      <td>test_isbsan2</td>\n",
       "      <td>1676</td>\n",
       "    </tr>\n",
       "    <tr>\n",
       "      <th>123908</th>\n",
       "      <td>test_isbsan2</td>\n",
       "      <td>74394</td>\n",
       "    </tr>\n",
       "    <tr>\n",
       "      <th>123909</th>\n",
       "      <td>test_isbn</td>\n",
       "      <td>74395</td>\n",
       "    </tr>\n",
       "    <tr>\n",
       "      <th>123910</th>\n",
       "      <td>test_isbn</td>\n",
       "      <td>1676</td>\n",
       "    </tr>\n",
       "  </tbody>\n",
       "</table>\n",
       "</div>"
      ],
      "text/plain": [
       "                     isbn  author_id\n",
       "123901        some_isabn1      74396\n",
       "123902     some_isasdabn1      74396\n",
       "123903  some_isasdasasbn1      74396\n",
       "123904    some_isasdasbn1      74397\n",
       "123905      teasast_isbn1      74395\n",
       "123906      teasast_isbn1       1676\n",
       "123907       test_isbsan2       1676\n",
       "123908       test_isbsan2      74394\n",
       "123909          test_isbn      74395\n",
       "123910          test_isbn       1676"
      ]
     },
     "execution_count": 8,
     "metadata": {},
     "output_type": "execute_result"
    }
   ],
   "source": [
    "get_table_from_db(\"bookauthor\").iloc[-10:]"
   ]
  },
  {
   "cell_type": "code",
   "execution_count": null,
   "metadata": {},
   "outputs": [],
   "source": []
  }
 ],
 "metadata": {
  "kernelspec": {
   "display_name": "book-recommendation",
   "language": "python",
   "name": "python3"
  },
  "language_info": {
   "codemirror_mode": {
    "name": "ipython",
    "version": 3
   },
   "file_extension": ".py",
   "mimetype": "text/x-python",
   "name": "python",
   "nbconvert_exporter": "python",
   "pygments_lexer": "ipython3",
   "version": "3.10.9"
  }
 },
 "nbformat": 4,
 "nbformat_minor": 2
}
