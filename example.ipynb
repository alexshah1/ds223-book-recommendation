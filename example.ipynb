{
 "cells": [
  {
   "cell_type": "markdown",
   "metadata": {},
   "source": [
    "## Database Functions"
   ]
  },
  {
   "cell_type": "code",
   "execution_count": 1,
   "metadata": {},
   "outputs": [
    {
     "name": "stderr",
     "output_type": "stream",
     "text": [
      "c:\\Users\\alexa\\Desktop\\Spring 2024\\DS 223 Marketing Analytics\\Project\\ds223-book-recommendation\\book-recommendation\\lib\\site-packages\\tqdm\\auto.py:21: TqdmWarning: IProgress not found. Please update jupyter and ipywidgets. See https://ipywidgets.readthedocs.io/en/stable/user_install.html\n",
      "  from .autonotebook import tqdm as notebook_tqdm\n"
     ]
    }
   ],
   "source": [
    "from kitab.db.functions import add_book_db, get_book_by_ISBN, add_book_db, update_book_db, get_table_from_db"
   ]
  },
  {
   "cell_type": "code",
   "execution_count": 2,
   "metadata": {},
   "outputs": [
    {
     "name": "stderr",
     "output_type": "stream",
     "text": [
      "\u001b[38;5;183m2024-04-09 22:36:38,008 - kitab.db.sql_interactions - insert_records - INFO - (1 records inserted successfully.) - line: 148\u001b[0m\n",
      "c:\\Users\\alexa\\Desktop\\Spring 2024\\DS 223 Marketing Analytics\\Project\\ds223-book-recommendation\\kitab\\db\\sql_interactions.py:241: UserWarning: pandas only supports SQLAlchemy connectable (engine/connection) or database string URI or sqlite3 DBAPI2 connection. Other DBAPI2 objects are not tested. Please consider using SQLAlchemy.\n",
      "  data = pd.read_sql(query, self.connection)\n",
      "\u001b[33;20m2024-04-09 22:36:38,231 - kitab.db.sql_interactions - insert_records - WARNING - (No records to insert.) - line: 137\u001b[0m\n",
      "\u001b[38;5;183m2024-04-09 22:36:38,272 - kitab.db.sql_interactions - insert_records - INFO - (2 records inserted successfully.) - line: 148\u001b[0m\n",
      "c:\\Users\\alexa\\Desktop\\Spring 2024\\DS 223 Marketing Analytics\\Project\\ds223-book-recommendation\\kitab\\db\\sql_interactions.py:241: UserWarning: pandas only supports SQLAlchemy connectable (engine/connection) or database string URI or sqlite3 DBAPI2 connection. Other DBAPI2 objects are not tested. Please consider using SQLAlchemy.\n",
      "  data = pd.read_sql(query, self.connection)\n",
      "\u001b[33;20m2024-04-09 22:36:38,293 - kitab.db.sql_interactions - insert_records - WARNING - (No records to insert.) - line: 137\u001b[0m\n",
      "\u001b[38;5;183m2024-04-09 22:36:38,305 - kitab.db.sql_interactions - insert_records - INFO - (2 records inserted successfully.) - line: 148\u001b[0m\n"
     ]
    }
   ],
   "source": [
    "add_book_db(\n",
    "    {\"ISBN\": \"test_isbn\",\n",
    "     \"title\": \"test_title\",\n",
    "     \"description\": \"test_description\",\n",
    "     \"available\": True,\n",
    "     \"authors\": [\"test_author\", \"Agatha Christie\"], \n",
    "     \"genres\": [\"test_genre\", \"Fiction\"]}\n",
    ")"
   ]
  },
  {
   "cell_type": "code",
   "execution_count": 3,
   "metadata": {},
   "outputs": [
    {
     "name": "stderr",
     "output_type": "stream",
     "text": [
      "c:\\Users\\alexa\\Desktop\\Spring 2024\\DS 223 Marketing Analytics\\Project\\ds223-book-recommendation\\kitab\\db\\sql_interactions.py:238: UserWarning: pandas only supports SQLAlchemy connectable (engine/connection) or database string URI or sqlite3 DBAPI2 connection. Other DBAPI2 objects are not tested. Please consider using SQLAlchemy.\n",
      "  data = pd.read_sql(query, self.connection, params=values)\n"
     ]
    }
   ],
   "source": [
    "get_book_by_ISBN(\"test_isbn1\")"
   ]
  },
  {
   "cell_type": "code",
   "execution_count": 4,
   "metadata": {},
   "outputs": [
    {
     "name": "stderr",
     "output_type": "stream",
     "text": [
      "c:\\Users\\alexa\\Desktop\\Spring 2024\\DS 223 Marketing Analytics\\Project\\ds223-book-recommendation\\kitab\\db\\sql_interactions.py:241: UserWarning: pandas only supports SQLAlchemy connectable (engine/connection) or database string URI or sqlite3 DBAPI2 connection. Other DBAPI2 objects are not tested. Please consider using SQLAlchemy.\n",
      "  data = pd.read_sql(query, self.connection)\n"
     ]
    },
    {
     "data": {
      "text/html": [
       "<div>\n",
       "<style scoped>\n",
       "    .dataframe tbody tr th:only-of-type {\n",
       "        vertical-align: middle;\n",
       "    }\n",
       "\n",
       "    .dataframe tbody tr th {\n",
       "        vertical-align: top;\n",
       "    }\n",
       "\n",
       "    .dataframe thead th {\n",
       "        text-align: right;\n",
       "    }\n",
       "</style>\n",
       "<table border=\"1\" class=\"dataframe\">\n",
       "  <thead>\n",
       "    <tr style=\"text-align: right;\">\n",
       "      <th></th>\n",
       "      <th>isbn</th>\n",
       "      <th>author_id</th>\n",
       "    </tr>\n",
       "  </thead>\n",
       "  <tbody>\n",
       "    <tr>\n",
       "      <th>123901</th>\n",
       "      <td>some_isabn1</td>\n",
       "      <td>74396</td>\n",
       "    </tr>\n",
       "    <tr>\n",
       "      <th>123902</th>\n",
       "      <td>some_isasdabn1</td>\n",
       "      <td>74396</td>\n",
       "    </tr>\n",
       "    <tr>\n",
       "      <th>123903</th>\n",
       "      <td>some_isasdasasbn1</td>\n",
       "      <td>74396</td>\n",
       "    </tr>\n",
       "    <tr>\n",
       "      <th>123904</th>\n",
       "      <td>some_isasdasbn1</td>\n",
       "      <td>74397</td>\n",
       "    </tr>\n",
       "    <tr>\n",
       "      <th>123905</th>\n",
       "      <td>teasast_isbn1</td>\n",
       "      <td>74395</td>\n",
       "    </tr>\n",
       "    <tr>\n",
       "      <th>123906</th>\n",
       "      <td>teasast_isbn1</td>\n",
       "      <td>1676</td>\n",
       "    </tr>\n",
       "    <tr>\n",
       "      <th>123907</th>\n",
       "      <td>test_isbsan2</td>\n",
       "      <td>1676</td>\n",
       "    </tr>\n",
       "    <tr>\n",
       "      <th>123908</th>\n",
       "      <td>test_isbsan2</td>\n",
       "      <td>74394</td>\n",
       "    </tr>\n",
       "    <tr>\n",
       "      <th>123909</th>\n",
       "      <td>test_isbn</td>\n",
       "      <td>74395</td>\n",
       "    </tr>\n",
       "    <tr>\n",
       "      <th>123910</th>\n",
       "      <td>test_isbn</td>\n",
       "      <td>1676</td>\n",
       "    </tr>\n",
       "  </tbody>\n",
       "</table>\n",
       "</div>"
      ],
      "text/plain": [
       "                     isbn  author_id\n",
       "123901        some_isabn1      74396\n",
       "123902     some_isasdabn1      74396\n",
       "123903  some_isasdasasbn1      74396\n",
       "123904    some_isasdasbn1      74397\n",
       "123905      teasast_isbn1      74395\n",
       "123906      teasast_isbn1       1676\n",
       "123907       test_isbsan2       1676\n",
       "123908       test_isbsan2      74394\n",
       "123909          test_isbn      74395\n",
       "123910          test_isbn       1676"
      ]
     },
     "execution_count": 4,
     "metadata": {},
     "output_type": "execute_result"
    }
   ],
   "source": [
    "get_table_from_db(\"bookauthor\").iloc[-10:]"
   ]
  },
  {
   "cell_type": "code",
   "execution_count": null,
   "metadata": {},
   "outputs": [],
   "source": []
  },
  {
   "cell_type": "code",
   "execution_count": 5,
   "metadata": {},
   "outputs": [
    {
     "name": "stderr",
     "output_type": "stream",
     "text": [
      "\u001b[38;5;183m2024-04-09 22:36:38,932 - kitab.db.sql_interactions - update_records - INFO - (Records updated successfully.) - line: 179\u001b[0m\n",
      "c:\\Users\\alexa\\Desktop\\Spring 2024\\DS 223 Marketing Analytics\\Project\\ds223-book-recommendation\\kitab\\db\\sql_interactions.py:238: UserWarning: pandas only supports SQLAlchemy connectable (engine/connection) or database string URI or sqlite3 DBAPI2 connection. Other DBAPI2 objects are not tested. Please consider using SQLAlchemy.\n",
      "  data = pd.read_sql(query, self.connection, params=values)\n",
      "c:\\Users\\alexa\\Desktop\\Spring 2024\\DS 223 Marketing Analytics\\Project\\ds223-book-recommendation\\kitab\\db\\sql_interactions.py:241: UserWarning: pandas only supports SQLAlchemy connectable (engine/connection) or database string URI or sqlite3 DBAPI2 connection. Other DBAPI2 objects are not tested. Please consider using SQLAlchemy.\n",
      "  data = pd.read_sql(query, self.connection)\n",
      "\u001b[33;20m2024-04-09 22:36:39,133 - kitab.db.sql_interactions - insert_records - WARNING - (No records to insert.) - line: 137\u001b[0m\n",
      "\u001b[33;20m2024-04-09 22:36:39,140 - kitab.db.sql_interactions - remove_records - WARNING - (No conditions provided for removing records.) - line: 194\u001b[0m\n",
      "\u001b[33;20m2024-04-09 22:36:39,140 - kitab.db.sql_interactions - insert_records - WARNING - (No records to insert.) - line: 137\u001b[0m\n"
     ]
    }
   ],
   "source": [
    "update_book_db(\"test_isbn1\", {\"ISBN\": \"test_isbsan2\", \"authors\": [\"Agatha Christie\", \"test_author2\"]})"
   ]
  },
  {
   "cell_type": "code",
   "execution_count": 6,
   "metadata": {},
   "outputs": [
    {
     "name": "stderr",
     "output_type": "stream",
     "text": [
      "c:\\Users\\alexa\\Desktop\\Spring 2024\\DS 223 Marketing Analytics\\Project\\ds223-book-recommendation\\kitab\\db\\sql_interactions.py:238: UserWarning: pandas only supports SQLAlchemy connectable (engine/connection) or database string URI or sqlite3 DBAPI2 connection. Other DBAPI2 objects are not tested. Please consider using SQLAlchemy.\n",
      "  data = pd.read_sql(query, self.connection, params=values)\n"
     ]
    }
   ],
   "source": [
    "get_book_by_ISBN(\"test_isbn1\")"
   ]
  },
  {
   "cell_type": "code",
   "execution_count": 7,
   "metadata": {},
   "outputs": [
    {
     "name": "stderr",
     "output_type": "stream",
     "text": [
      "c:\\Users\\alexa\\Desktop\\Spring 2024\\DS 223 Marketing Analytics\\Project\\ds223-book-recommendation\\kitab\\db\\sql_interactions.py:238: UserWarning: pandas only supports SQLAlchemy connectable (engine/connection) or database string URI or sqlite3 DBAPI2 connection. Other DBAPI2 objects are not tested. Please consider using SQLAlchemy.\n",
      "  data = pd.read_sql(query, self.connection, params=values)\n",
      "c:\\Users\\alexa\\Desktop\\Spring 2024\\DS 223 Marketing Analytics\\Project\\ds223-book-recommendation\\kitab\\db\\sql_interactions.py:238: UserWarning: pandas only supports SQLAlchemy connectable (engine/connection) or database string URI or sqlite3 DBAPI2 connection. Other DBAPI2 objects are not tested. Please consider using SQLAlchemy.\n",
      "  data = pd.read_sql(query, self.connection, params=values)\n"
     ]
    },
    {
     "data": {
      "text/plain": [
       "{'isbn': 'test_isbn2',\n",
       " 'title': 'test_title',\n",
       " 'description': 'test_description',\n",
       " 'available': True,\n",
       " 'authors': ['Agatha Christie', 'test_author2'],\n",
       " 'genres': ['Fiction', 'test_genre']}"
      ]
     },
     "execution_count": 7,
     "metadata": {},
     "output_type": "execute_result"
    }
   ],
   "source": [
    "get_book_by_ISBN(\"test_isbn2\")"
   ]
  },
  {
   "cell_type": "code",
   "execution_count": 8,
   "metadata": {},
   "outputs": [
    {
     "name": "stderr",
     "output_type": "stream",
     "text": [
      "c:\\Users\\alexa\\Desktop\\Spring 2024\\DS 223 Marketing Analytics\\Project\\ds223-book-recommendation\\kitab\\db\\sql_interactions.py:241: UserWarning: pandas only supports SQLAlchemy connectable (engine/connection) or database string URI or sqlite3 DBAPI2 connection. Other DBAPI2 objects are not tested. Please consider using SQLAlchemy.\n",
      "  data = pd.read_sql(query, self.connection)\n"
     ]
    },
    {
     "data": {
      "text/html": [
       "<div>\n",
       "<style scoped>\n",
       "    .dataframe tbody tr th:only-of-type {\n",
       "        vertical-align: middle;\n",
       "    }\n",
       "\n",
       "    .dataframe tbody tr th {\n",
       "        vertical-align: top;\n",
       "    }\n",
       "\n",
       "    .dataframe thead th {\n",
       "        text-align: right;\n",
       "    }\n",
       "</style>\n",
       "<table border=\"1\" class=\"dataframe\">\n",
       "  <thead>\n",
       "    <tr style=\"text-align: right;\">\n",
       "      <th></th>\n",
       "      <th>isbn</th>\n",
       "      <th>author_id</th>\n",
       "    </tr>\n",
       "  </thead>\n",
       "  <tbody>\n",
       "    <tr>\n",
       "      <th>123901</th>\n",
       "      <td>some_isabn1</td>\n",
       "      <td>74396</td>\n",
       "    </tr>\n",
       "    <tr>\n",
       "      <th>123902</th>\n",
       "      <td>some_isasdabn1</td>\n",
       "      <td>74396</td>\n",
       "    </tr>\n",
       "    <tr>\n",
       "      <th>123903</th>\n",
       "      <td>some_isasdasasbn1</td>\n",
       "      <td>74396</td>\n",
       "    </tr>\n",
       "    <tr>\n",
       "      <th>123904</th>\n",
       "      <td>some_isasdasbn1</td>\n",
       "      <td>74397</td>\n",
       "    </tr>\n",
       "    <tr>\n",
       "      <th>123905</th>\n",
       "      <td>teasast_isbn1</td>\n",
       "      <td>74395</td>\n",
       "    </tr>\n",
       "    <tr>\n",
       "      <th>123906</th>\n",
       "      <td>teasast_isbn1</td>\n",
       "      <td>1676</td>\n",
       "    </tr>\n",
       "    <tr>\n",
       "      <th>123907</th>\n",
       "      <td>test_isbsan2</td>\n",
       "      <td>1676</td>\n",
       "    </tr>\n",
       "    <tr>\n",
       "      <th>123908</th>\n",
       "      <td>test_isbsan2</td>\n",
       "      <td>74394</td>\n",
       "    </tr>\n",
       "    <tr>\n",
       "      <th>123909</th>\n",
       "      <td>test_isbn</td>\n",
       "      <td>74395</td>\n",
       "    </tr>\n",
       "    <tr>\n",
       "      <th>123910</th>\n",
       "      <td>test_isbn</td>\n",
       "      <td>1676</td>\n",
       "    </tr>\n",
       "  </tbody>\n",
       "</table>\n",
       "</div>"
      ],
      "text/plain": [
       "                     isbn  author_id\n",
       "123901        some_isabn1      74396\n",
       "123902     some_isasdabn1      74396\n",
       "123903  some_isasdasasbn1      74396\n",
       "123904    some_isasdasbn1      74397\n",
       "123905      teasast_isbn1      74395\n",
       "123906      teasast_isbn1       1676\n",
       "123907       test_isbsan2       1676\n",
       "123908       test_isbsan2      74394\n",
       "123909          test_isbn      74395\n",
       "123910          test_isbn       1676"
      ]
     },
     "execution_count": 8,
     "metadata": {},
     "output_type": "execute_result"
    }
   ],
   "source": [
    "get_table_from_db(\"bookauthor\").iloc[-10:]"
   ]
  },
  {
   "cell_type": "code",
   "execution_count": null,
   "metadata": {},
   "outputs": [],
   "source": []
  },
  {
   "cell_type": "markdown",
   "metadata": {},
   "source": [
    "## Model"
   ]
  },
  {
   "cell_type": "code",
   "execution_count": 9,
   "metadata": {},
   "outputs": [],
   "source": [
    "from kitab.recommendation_model.models import recommend_books, recommend_books_by_ISBN, recommend_books_by_title"
   ]
  },
  {
   "cell_type": "code",
   "execution_count": 10,
   "metadata": {},
   "outputs": [],
   "source": [
    "sample_description = \"The book projects American society immediately after World War II into a technologically advanced future where the amplification of humanity's potentials to create and destroy have both miraculous and devastating consequences.\""
   ]
  },
  {
   "cell_type": "code",
   "execution_count": null,
   "metadata": {},
   "outputs": [],
   "source": []
  },
  {
   "cell_type": "code",
   "execution_count": 11,
   "metadata": {},
   "outputs": [
    {
     "name": "stderr",
     "output_type": "stream",
     "text": [
      "c:\\Users\\alexa\\Desktop\\Spring 2024\\DS 223 Marketing Analytics\\Project\\ds223-book-recommendation\\kitab\\db\\sql_interactions.py:241: UserWarning: pandas only supports SQLAlchemy connectable (engine/connection) or database string URI or sqlite3 DBAPI2 connection. Other DBAPI2 objects are not tested. Please consider using SQLAlchemy.\n",
      "  data = pd.read_sql(query, self.connection)\n",
      "c:\\Users\\alexa\\Desktop\\Spring 2024\\DS 223 Marketing Analytics\\Project\\ds223-book-recommendation\\kitab\\recommendation_model\\models.py:28: SettingWithCopyWarning: \n",
      "A value is trying to be set on a copy of a slice from a DataFrame\n",
      "\n",
      "See the caveats in the documentation: https://pandas.pydata.org/pandas-docs/stable/user_guide/indexing.html#returning-a-view-versus-a-copy\n",
      "  most_similar_books.drop(columns=[\"embedding\"], inplace=True)\n",
      "c:\\Users\\alexa\\Desktop\\Spring 2024\\DS 223 Marketing Analytics\\Project\\ds223-book-recommendation\\kitab\\db\\sql_interactions.py:238: UserWarning: pandas only supports SQLAlchemy connectable (engine/connection) or database string URI or sqlite3 DBAPI2 connection. Other DBAPI2 objects are not tested. Please consider using SQLAlchemy.\n",
      "  data = pd.read_sql(query, self.connection, params=values)\n"
     ]
    }
   ],
   "source": [
    "recommended_books1 = recommend_books(sample_description, 5)"
   ]
  },
  {
   "cell_type": "code",
   "execution_count": 12,
   "metadata": {},
   "outputs": [
    {
     "data": {
      "text/plain": [
       "[{'isbn': '345430247',\n",
       "  'title': 'Aftershocks',\n",
       "  'description': '\\n  ,Set in the same universe as the ,Worldwar, series, ,Colonization: Aftershocks, brings us to Earth in the 1960s, where four superpowers rule: the United States, Russia, Nazi Germany, and the aliens of the Race.,\\n,The arrival of the aliens shot Earth technology forward at a dizzying rateâ€”the world of 1960 includes routine space shuttle traffic, computers on every desk, and other high tech advancements. Aftershocks reveals that it was the United States that launched the nuclear offensive against the aliens, and when the aliens learn the truth, Indianapolis disappears in nuclear fire. In alien-held China, a full-fledged rebellion is launched, and in Poland, a nuclear bomb goes missingâ€”held by Jewish forces who seek to use it against the Nazis.,The nations of Earth begin to realize that their only hope in holding back the aliens will be to work together. Because separately, they may face extinction.,About the Author:, Harry Turtledove is a Hugo Award-winning and critically acclaimed writer of science fiction, fantasy, and alternate history. His novels include ,The Guns of the South,, ,How Few Remain,â€”winner of the Sidewise Award for Best Novelâ€”and the ,Worldwar, tetralogy. ,The Great War: American Front, was chosen by ,Publishers Weekly, as one of the Best Books of 1998.',\n",
       "  'available': False,\n",
       "  'authors': ['Harry Turtledove'],\n",
       "  'genres': ['Historical',\n",
       "   'War',\n",
       "   'Historical Fiction',\n",
       "   'Fiction',\n",
       "   'Audiobook',\n",
       "   'Fantasy',\n",
       "   'Science Fiction',\n",
       "   'Science Fiction Fantasy',\n",
       "   'Military Fiction',\n",
       "   'Speculative Fiction',\n",
       "   'Alternate History']},\n",
       " {'isbn': '345458478',\n",
       "  'title': 'Homeward Bound',\n",
       "  'description': 'The twentieth century was awash in war. World powers were pouring men and machines onto the killing fields of Europe. Then, in one dramatic stroke, a divided planet was changed forever. An alien race attacked Earth, and for every nation, every human being, new battle lines were drawn.,\\n  ,HOMEWARD BOUND,\\n,With his epic novels of alternate history, Harry Turtledove shares a stunning vision of what might have beenâ€“and what might still beâ€“if one moment in history were changed. In the ,WorldWar, and ,Colonization, series, an ancient, highly advanced alien species found itself locked in a bitter struggle with a distant, rebellious planetâ€“Earth. For those defending the Earth, this all-out war for survival supercharged human technology, made friends of foes, and turned allies into bitter enemies.,For the aliens known as the Race, the conflict has yielded dire consequences. Mankind has developed nuclear technology years ahead of schedule, forcing the invaders to accept an uneasy truce with nations that possess the technology to defend themselves. But it is the Americans, with their primitive inventiveness, who discover a way to launch themselves through distant spaceâ€“and reach the Raceâ€™s home planet itself.,Nowâ€“in the twenty-first centuryâ€“a few daring men and women embark upon a journey no human has made before. Warriors, diplomats, traitors, and exilesâ€“the humans who arrive in the place called Home find themselves genuine strangers on a strange world, and at the center of a flash point with terrifying potential. For their arrival on the alien home world may drive the enemy to make the ultimate decisionâ€“to annihilate an entire planet, rather than allow the human contagion to spread. It may be that nothing can deter them from this course.,With its extraordinary cast of charactersâ€“human, nonhuman, and some in betweenâ€“,Homeward Bound, is a fascinating contemplation of cultures, armies, and individuals in collision. From the novelist USA Today calls â€œthe leading author of alternate history,â€\\x9d this is a novel of vision, adventure, and constant, astounding surprise.',\n",
       "  'available': False,\n",
       "  'authors': ['Harry Turtledove', 'Jim  Burns'],\n",
       "  'genres': ['Historical',\n",
       "   'War',\n",
       "   'Historical Fiction',\n",
       "   'Fiction',\n",
       "   'Fantasy',\n",
       "   'Science Fiction',\n",
       "   'Science Fiction Fantasy',\n",
       "   'Military Fiction',\n",
       "   'Aliens',\n",
       "   'Speculative Fiction',\n",
       "   'Alternate History']},\n",
       " {'isbn': '1608324044',\n",
       "  'title': 'Infinite Progress: How the Internet and Technology Will End Ignorance, Disease, Poverty, Hunger, and War',\n",
       "  'description': \"For years we've been inundated with bleak forecasts about the future. But in this electrifying new book, author Byron Reese debunks the pessimistic outlook as dangerous, and shows instead how technology will soon create a dramatically better world for every person on earth, beyond anything we have dared to imagine.,With the art of a storyteller, Reese synthesizes history, technology, and sociology into an exciting, fast-moving narrative that shows how technological change has had dramatic effects on humanity in the past. He then looks forward at the technological changes we know are coming--from genetics, nanotechnology, robotics, and many other fields--and explores how they will vastly increase wealth, prolong our lifespans, redefine human rights, and alter the social fabric of the world.,Reese explains how the Internet, human ingenuity, and technological innovation will help us forever end the five historic plagues of human existence: ignorance, disease, poverty, hunger, and war. With a rational and researched optimism, Reese sees the future not as a world in a downward spiral, but as destined for progress beyond our imaginations.,As Reese looks forward, he notes that ''we are gaining speed, not winding down. We are blooming, not withering, as we leverage the greatest natural resource on the planet: the human mind.'',The future of Earth's inhabitants has never been brighter. If you want to get excited about the future, then this is the book for you.\",\n",
       "  'available': False,\n",
       "  'authors': ['Byron Reese'],\n",
       "  'genres': ['Nonfiction',\n",
       "   'Politics',\n",
       "   'Economics',\n",
       "   'Science',\n",
       "   'Technology',\n",
       "   'Futurism']},\n",
       " {'isbn': '1607067269',\n",
       "  'title': 'The Manhattan Projects, Vol. 2: They Rule',\n",
       "  'description': 'The second amazing volume of the ,science, bad, book of the new millennium. The battle for global supremacy is underway and the bad men of the Manhattan Projects will only accept one outcome: World domination,Collecting,: ,The Manhattan Projects, 6-10',\n",
       "  'available': False,\n",
       "  'authors': ['Jonathan Hickman',\n",
       "   'Rus Wooton',\n",
       "   'Jordie Bellaire',\n",
       "   'Ryan Browne',\n",
       "   'Nick Pitarra'],\n",
       "  'genres': ['Historical',\n",
       "   'Historical Fiction',\n",
       "   'Fiction',\n",
       "   'Fantasy',\n",
       "   'Science Fiction',\n",
       "   'Sequential Art',\n",
       "   'Comics',\n",
       "   'Graphic Novels',\n",
       "   'Comic Book',\n",
       "   'Graphic Novels Comics',\n",
       "   'Alternate History']},\n",
       " {'isbn': '300180764',\n",
       "  'title': 'America the Possible: Manifesto for a New Economy',\n",
       "  'description': 'In this third volume of his award-winning American Crisis series, James Gustave Speth makes his boldest and most ambitious contribution yet. He looks unsparingly at the sea of troubles in which the United States now finds itself, charts a course through the discouragement and despair commonly felt today, and envisions what he calls America the Possible, an attractive and plausible future that we can still realize.,The book identifies a dozen features of the American political economyâ€”the country\\'s basic operating systemâ€”where transformative change is essential. It spells out the specific changes that are needed to move toward a new political economyâ€”one in which the true priority is to sustain people and planet. Supported by aÂ\\xa0compelling \"theory of change\" that explains how system change can come to America, the book also presents a vision of political, social, and economic life in a renewed America. Speth envisions a future that will be well worth fighting for. In short, this is a book about the American future and the strong possibility that we yet have it in ourselves to use our freedom and our democracy in powerful ways to create something fine, a reborn America, for our children and grandchildren.',\n",
       "  'available': False,\n",
       "  'authors': ['James Gustave Speth'],\n",
       "  'genres': ['Nonfiction',\n",
       "   'Politics',\n",
       "   'Economics',\n",
       "   'Literature',\n",
       "   'Environment',\n",
       "   'Sustainability',\n",
       "   'American',\n",
       "   'Climate Change']}]"
      ]
     },
     "execution_count": 12,
     "metadata": {},
     "output_type": "execute_result"
    }
   ],
   "source": [
    "recommended_books1"
   ]
  },
  {
   "cell_type": "code",
   "execution_count": 13,
   "metadata": {},
   "outputs": [],
   "source": [
    "sample_isbn = \"087584717X\""
   ]
  },
  {
   "cell_type": "code",
   "execution_count": 14,
   "metadata": {},
   "outputs": [
    {
     "name": "stderr",
     "output_type": "stream",
     "text": [
      "c:\\Users\\alexa\\Desktop\\Spring 2024\\DS 223 Marketing Analytics\\Project\\ds223-book-recommendation\\kitab\\db\\sql_interactions.py:241: UserWarning: pandas only supports SQLAlchemy connectable (engine/connection) or database string URI or sqlite3 DBAPI2 connection. Other DBAPI2 objects are not tested. Please consider using SQLAlchemy.\n",
      "  data = pd.read_sql(query, self.connection)\n",
      "c:\\Users\\alexa\\Desktop\\Spring 2024\\DS 223 Marketing Analytics\\Project\\ds223-book-recommendation\\kitab\\recommendation_model\\models.py:28: SettingWithCopyWarning: \n",
      "A value is trying to be set on a copy of a slice from a DataFrame\n",
      "\n",
      "See the caveats in the documentation: https://pandas.pydata.org/pandas-docs/stable/user_guide/indexing.html#returning-a-view-versus-a-copy\n",
      "  most_similar_books.drop(columns=[\"embedding\"], inplace=True)\n",
      "c:\\Users\\alexa\\Desktop\\Spring 2024\\DS 223 Marketing Analytics\\Project\\ds223-book-recommendation\\kitab\\db\\sql_interactions.py:238: UserWarning: pandas only supports SQLAlchemy connectable (engine/connection) or database string URI or sqlite3 DBAPI2 connection. Other DBAPI2 objects are not tested. Please consider using SQLAlchemy.\n",
      "  data = pd.read_sql(query, self.connection, params=values)\n"
     ]
    }
   ],
   "source": [
    "recommended_books2 = recommend_books_by_ISBN(sample_isbn, 5)"
   ]
  },
  {
   "cell_type": "code",
   "execution_count": 15,
   "metadata": {},
   "outputs": [
    {
     "data": {
      "text/plain": [
       "[{'isbn': '087584717X',\n",
       "  'title': 'Competitive Advantage Through People: Unleashing the Power of the Work Force',\n",
       "  'description': '\"Competitive Advantage Through People\" explores why - despite long-standing evidence that a committed work force is essential for success - firms continue to attach little importance to their workers. The answer, argues Pfeffer, resides in a complex web of factors based on perception, history, legislation, and practice that continues to dominate management thought and action. Yet, some organizations have been able to overcome these obstacles. In fact, the five common stocks with the highest returns between 1972 and 1992 - Southwest Airlines, Wal-Mart, Tyson Foods, Circuit City, and Plenum Publishing - were in industries that shared virtually none of the characteristics traditionally associated with strategic success. What each of these firms did share is the ability to produce sustainable competitive advantage through its way of managing people. Pfeffer documents how they - and others - resisted traditional management pitfalls, and offers frameworks for implementing these changes in any industry.',\n",
       "  'available': True,\n",
       "  'authors': ['Jeffrey Pfeffer'],\n",
       "  'genres': ['Business',\n",
       "   'Leadership',\n",
       "   'Romance',\n",
       "   'Historical Romance',\n",
       "   'Management']},\n",
       " {'isbn': '875848982',\n",
       "  'title': 'Hidden Value: How Great Companies Achieve Extraordinary Results With Ordinary People',\n",
       "  'description': 'Discover how the best companies win not by acquiring the right people - but by building the right organization. The \\'war for talent\\' is one battle every company believes it should be waging. But while competitors are busy chasing after the same \\'hot\\' individuals, smart companies are doing something infinitely more useful and far more difficult to copy - they\\'re building organizations that make it possible for ordinary people at every desk and cubicle in their companies to perform as if they were stars. Blowing up the prevailing wisdom that companies must chase and acquire top talent in order to remain successful, \"Hidden Value\" argues instead that the source of sustained competitive advantage already exists within every organization. O\\'Reilly and Pfeffer, leading experts on organizational behavior and human resources, argue that how a firm creates and uses talent is far more important than how the firm attracts talent. The authors provide vivid, detailed case studies of several organizations in widely disparate industries - including Southwest Airlines, Cisco Systems, The Men\\'s Wearhouse, and NUMMI - to illustrate how long-term success comes from value-driven, interrelated systems that align good people management with corporate strategy. In a refreshing break from management tomes that force-feed superficial frameworks and trite \\'rules\\', the authors instead allow the company stories to take center stage. They guide readers in discovering for themselves how seven different firms maximize talent, why one firm hasn\\'t fully released the hidden value in its work force, and, most importantly, how the winning companies have made it tough for competitors to imitate them. Collectively, the stories reveal a common path to success that places values before strategy, emphasizes implementation over planning, and focuses on getting the best out of all employees, not just individual stars. The authors also explore concerns or questions managers might have about how each company\\'s experience parallels or conflicts with their own. Providing a rare opportunity for managers to actively participate in an invaluable learning process, \"Hidden Value\" offers a customizable template for building high-performance, people-centered organizations.',\n",
       "  'available': True,\n",
       "  'authors': ['Jeffrey Pfeffer', \"Charles A. O'Reilly\"],\n",
       "  'genres': ['Nonfiction', 'Business', 'Leadership', 'Management']},\n",
       " {'isbn': '1422172813',\n",
       "  'title': 'The End of Competitive Advantage: How to Keep Your Strategy Moving as Fast as Your Business',\n",
       "  'description': 'Are you at risk of being trapped in an uncompetitive business?,Chances are the strategies that worked well for you even a few years ago no longer deliver the results you need. Dramatic changes in business have unearthed a major gap between traditional approaches to strategy and the way the real world works ,now,.,In short, strategy is stuck. Most leaders are using frameworks that were designed for a different era of business and based on a single dominant ideaâ€”that the purpose of strategy is to achieve a sustainable competitive advantage. Once the premise on which all strategies were built, this idea is increasingly irrelevant.,Now, Columbia Business School professor and globally recognized strategy expert Rita Gunther McGrath argues that itâ€™s time to go beyond the very concept of sustainable competitive advantage. Instead, organizations need to forge a new path to winning: capturing opportunities fast, exploiting them decisively, and moving on even before they are exhausted. She shows how to do this with a new set of practices based on the notion of ,transient, competitive advantage.,This book serves as a new playbook for strategy, one based on updated assumptions about how the world works, and shows how some of the worldâ€™s most successful companies use this method to compete and win today.,Filled with compelling examples from â€œgrowth outlierâ€\\x9d firms such as Fujifilm, Cognizant Technology Solutions, Infosys, Yahoo! Japan, and Atmos Energy, ,The End of Competitive Advantage, is your guide to renewed success and profitable growth in an economy increasingly defined by transient advantage.',\n",
       "  'available': False,\n",
       "  'authors': ['Rita Gunther McGrath'],\n",
       "  'genres': ['Nonfiction',\n",
       "   'Business',\n",
       "   'Leadership',\n",
       "   'Management',\n",
       "   'Science',\n",
       "   'Entrepreneurship',\n",
       "   'Technology']},\n",
       " {'isbn': '875848419',\n",
       "  'title': 'The Human Equation: Building Profits by Putting People First',\n",
       "  'description': 'Why is common sense so uncommon when it comes to managing people? How is it that so many seemingly intelligent organizations implement harmful management practices and ideas? In his provocative new book, ,The Human Equation,, bestselling author Jeffrey Pfeffer examines why much of the current conventional wisdom is wrong and asks us to re-think the way managers link people with organizational performance. Pfeffer masterfully builds a powerful business case for managing people effectivelyâ€”not just because it makes for good corporate policy, but because it results in outstanding performance and profits. Challenging current thinking and practice, Pfeffer: reveals the costs of downsizing and provides alternatives; identifies troubling trends in compensation, and suggests better practices; explains why even the smartest managers sometimes manage people unwisely; demonstrates how market-based forces can fail to create good people management practices, creating a need for positive public policy; and provides practical guidelines for implementing high-performance management practices. Filled with information and ideas, ,The Human Equation, provides much-needed guidance for managing people more wisely and more profitably.',\n",
       "  'available': True,\n",
       "  'authors': ['Jeffrey Pfeffer'],\n",
       "  'genres': ['Nonfiction',\n",
       "   'Business',\n",
       "   'Leadership',\n",
       "   'Romance',\n",
       "   'Historical Romance',\n",
       "   'Management',\n",
       "   'Human Resources']},\n",
       " {'isbn': '1608324281',\n",
       "  'title': \"Beliefs, Behaviors, and Results: The Chief Executive's Guide to Delivering Superior Shareholder Value\",\n",
       "  'description': 'For any CEO who wants to achieve and sustain superior shareholder value growth.,All chief executives want to deliver superior returns for their shareholders, however only a few have been able to do so on a sustainable basis. ,Beliefs, Behaviors, and Results, profiles how the best Fortune 200 CEOs have been able to outperform their peers and sustain superior shareholder returns by institutionalizing a set of beliefs and behaviors in their organizations.,Through the words and case examples of these leading chief executives, the authors capture the five core principles that have transformed the performance of some of the worldâ€™s best corporations.Â\\xa0 Readers will learn how the CEOs of these companies united their organizations around a common definition of winning, how they helped their managers capture a greater share of market profits, and how they established a culture where all managers think and act like entrepreneurial owners.Â\\xa0 Readers will learn how the best executives:,â€¢Â\\xa0Â\\xa0 Â\\xa0Look at markets differently to identify new profitable growth opportunities,â€¢Â\\xa0Â\\xa0 Â\\xa0Develop strategic innovations that are at least as valuable as new product innovations in driving shareholder value growth,â€¢Â\\xa0Â\\xa0 Â\\xa0Establish a reinvestment advantage that is difficult for competitors to match,â€¢Â\\xa0Â\\xa0 Â\\xa0Sustain superior performance over time ,In addition, the reader will learn the:,â€¢Â\\xa0Â\\xa0 Â\\xa0Common mistakes that prevent most management teams from maximizing profitable growth and shareholder value,â€¢Â\\xa0Â\\xa0 Â\\xa0Specific actions that all senior managers can take to materially change sustainable performance of their corporation',\n",
       "  'available': False,\n",
       "  'authors': ['Scott Gillis', 'Lee Mergy', 'Joe Shalleck'],\n",
       "  'genres': ['Business']}]"
      ]
     },
     "execution_count": 15,
     "metadata": {},
     "output_type": "execute_result"
    }
   ],
   "source": [
    "recommended_books2"
   ]
  },
  {
   "cell_type": "code",
   "execution_count": 16,
   "metadata": {},
   "outputs": [],
   "source": [
    "sample_title = \"Spirit Wolf\""
   ]
  },
  {
   "cell_type": "code",
   "execution_count": 17,
   "metadata": {},
   "outputs": [
    {
     "name": "stderr",
     "output_type": "stream",
     "text": [
      "c:\\Users\\alexa\\Desktop\\Spring 2024\\DS 223 Marketing Analytics\\Project\\ds223-book-recommendation\\kitab\\db\\sql_interactions.py:241: UserWarning: pandas only supports SQLAlchemy connectable (engine/connection) or database string URI or sqlite3 DBAPI2 connection. Other DBAPI2 objects are not tested. Please consider using SQLAlchemy.\n",
      "  data = pd.read_sql(query, self.connection)\n",
      "c:\\Users\\alexa\\Desktop\\Spring 2024\\DS 223 Marketing Analytics\\Project\\ds223-book-recommendation\\kitab\\recommendation_model\\models.py:28: SettingWithCopyWarning: \n",
      "A value is trying to be set on a copy of a slice from a DataFrame\n",
      "\n",
      "See the caveats in the documentation: https://pandas.pydata.org/pandas-docs/stable/user_guide/indexing.html#returning-a-view-versus-a-copy\n",
      "  most_similar_books.drop(columns=[\"embedding\"], inplace=True)\n",
      "c:\\Users\\alexa\\Desktop\\Spring 2024\\DS 223 Marketing Analytics\\Project\\ds223-book-recommendation\\kitab\\db\\sql_interactions.py:238: UserWarning: pandas only supports SQLAlchemy connectable (engine/connection) or database string URI or sqlite3 DBAPI2 connection. Other DBAPI2 objects are not tested. Please consider using SQLAlchemy.\n",
      "  data = pd.read_sql(query, self.connection, params=values)\n"
     ]
    }
   ],
   "source": [
    "recommended_books3 = recommend_books_by_title(sample_title, 5)"
   ]
  },
  {
   "cell_type": "code",
   "execution_count": 18,
   "metadata": {},
   "outputs": [
    {
     "data": {
      "text/plain": [
       "[{'isbn': '545279615',\n",
       "  'title': 'Spirit Wolf',\n",
       "  'description': \"Faolan, a wolf once doomed to die, struggles to fufill his destiny as the leader of the wolves of Beyond.,No one ever saw Faolan as a leader. Banished as a pup, he survived and returned as a gnaw wolf-the lowest member of the wolf pack. But Faolan wasn't meant to be a gnaw wolf. It's not just his strange, splayed paw, or his uncanny connection with the bears. There's something about Faolan that inspires certain wolves . . . and leaves others deeply suspicious. Now, with a dangerous threat on the horizon, the pack must make a choice. Will they trust the silver outsider with the task of leading? If Faolan can't fulfill his destiny, it could be the end of the wolves of the Beyond.\",\n",
       "  'available': True,\n",
       "  'authors': ['Kathryn Lasky'],\n",
       "  'genres': ['Fiction',\n",
       "   'Adventure',\n",
       "   'Fantasy',\n",
       "   'Magic',\n",
       "   'Animals',\n",
       "   'Childrens',\n",
       "   'Middle Grade',\n",
       "   'Young Adult',\n",
       "   'Animal Fiction',\n",
       "   'Wolves']},\n",
       " {'isbn': '545093163',\n",
       "  'title': 'Frost Wolf',\n",
       "  'description': \"Bestselling author Kathryn Lasky's hit series - a stunning spin-off set among the wolves of Ga'hoole.,Faolan has always been an outsider. Exiled as a pup, then shunned by his fellow wolves for his unusual connection to the bears, Faolan has struggled to earn a place in the pack. But a terrible danger is looming on the horizon, and Faolan is the only one who knows how to fight it. Will he be able to claim his rightful place as leader? Unless Faolan can inspire the pack to stand together, it could be the end of the wolves of the Beyond. \",\n",
       "  'available': False,\n",
       "  'authors': ['Kathryn Lasky'],\n",
       "  'genres': ['Fiction',\n",
       "   'Adventure',\n",
       "   'Fantasy',\n",
       "   'Animals',\n",
       "   'Childrens',\n",
       "   'Middle Grade',\n",
       "   'Young Adult',\n",
       "   'Juvenile',\n",
       "   'Animal Fiction',\n",
       "   'Wolves']},\n",
       " {'isbn': '312357257',\n",
       "  'title': 'Hungry Like a Wolf',\n",
       "  'description': 'When her father died, Honor Tate inherited the alpha position for a pack of werewolves based in New England. But why her? Honor would have rather just lived a â€œnormalâ€\\x9d life, with the occasional run through the woods in her furry suit. Still, Honor was raised to put the welfare of the pack firstâ€¦and now itâ€™s time to make a formal request that the alpha of the Silverback clanâ€”the pack to which all locals owe fealtyâ€”recognize her as alpha of the White Paw. But instead of sending his support, the Silverbacks send Logan Hunter.,Logan Hunter would do anything to protect the Silverbacksâ€”but his devotion comes with a price. For years he has been fighting his alpha instincts and the need for his own pack. But all that changes when Logan is sent on a mission to find out whether the new White Paw alpha really has what it takes to carry on her fatherâ€™s legacy. Powerful, spirited, and downright gorgeous Honor exceeds his expectationsâ€¦and leaves him howling for more. Could it be that heâ€™s finally found his alpha mate? Or will old enemies, dueling loyalties, and an appetite for destruction stop him dead in his tracks?',\n",
       "  'available': False,\n",
       "  'authors': ['Christine Warren'],\n",
       "  'genres': ['Romance',\n",
       "   'Fantasy',\n",
       "   'Adult Fiction',\n",
       "   'Erotica',\n",
       "   'Paranormal',\n",
       "   'Urban Fantasy',\n",
       "   'Adult',\n",
       "   'Paranormal Romance',\n",
       "   'M F Romance',\n",
       "   'Shapeshifters',\n",
       "   'Werewolves']},\n",
       " {'isbn': '545279623',\n",
       "  'title': 'Star Wolf',\n",
       "  'description': \"The latest in Kathryn Lasky's hit series - a stunning spin-off set among the wolves of Ga'hoole.,A great cold has seized the Beyond. The warmth of summer, the smell of sweet grass and the great caribou migrations are distant memories. Now the wolves know only ice, dark, snow and endless cold. The order that kept the wolf clans strong for thousands of years has broken down completely.,The wolves have only one chance for survival. They must find their way to a new land, a land of warmth and summer. But the journey will take them over a frozen sea and through thousands of miles of perilous territory. Will the wolves trust young Faolan to lead them?\",\n",
       "  'available': False,\n",
       "  'authors': ['Kathryn Lasky'],\n",
       "  'genres': ['Fiction',\n",
       "   'Adventure',\n",
       "   'Fantasy',\n",
       "   'Animals',\n",
       "   'Childrens',\n",
       "   'Middle Grade',\n",
       "   'Young Adult',\n",
       "   'Juvenile',\n",
       "   'Animal Fiction',\n",
       "   'Wolves']},\n",
       " {'isbn': '983510814',\n",
       "  'title': 'Echoes of Winter',\n",
       "  'description': 'A wolf. A destiny. And only one war to stand in his way., ,When Convel leaves his birth pack, he didnâ€™t expect to end up in a war against cougars. As he gathers his strength about him as well as new pack-mates, he is also confronted by Humans â€“ once believed to be mostly dead., ,He isnâ€™t alone in his endeavours. He doesnâ€™t know it, but Singer and her rag-tag â€˜packâ€™ are racing towards him for the climax in his life so far. With Sage, the elderly lynx, helping to guide him, will he be successful or will the traitor in his life get what they want?',\n",
       "  'available': False,\n",
       "  'authors': ['Dominique Goodall'],\n",
       "  'genres': ['Animals', 'Childrens', 'Wolves']}]"
      ]
     },
     "execution_count": 18,
     "metadata": {},
     "output_type": "execute_result"
    }
   ],
   "source": [
    "recommended_books3"
   ]
  },
  {
   "cell_type": "code",
   "execution_count": null,
   "metadata": {},
   "outputs": [],
   "source": []
  }
 ],
 "metadata": {
  "kernelspec": {
   "display_name": "book-recommendation",
   "language": "python",
   "name": "python3"
  },
  "language_info": {
   "codemirror_mode": {
    "name": "ipython",
    "version": 3
   },
   "file_extension": ".py",
   "mimetype": "text/x-python",
   "name": "python",
   "nbconvert_exporter": "python",
   "pygments_lexer": "ipython3",
   "version": "3.10.9"
  }
 },
 "nbformat": 4,
 "nbformat_minor": 2
}
